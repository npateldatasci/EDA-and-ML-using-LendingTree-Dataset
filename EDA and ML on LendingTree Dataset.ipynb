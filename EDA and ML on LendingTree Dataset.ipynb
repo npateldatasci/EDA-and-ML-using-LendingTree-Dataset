{
 "cells": [
  {
   "cell_type": "markdown",
   "metadata": {},
   "source": [
    "# Loan Interest Rate Data Exploration and Analysis\n",
    "\n",
    "## The overall analysis is divided into two parts:\n",
    "### 1) Data Cleaning, Transformation and Exploration\n",
    "### 2) Building and Running Machine Learning model"
   ]
  },
  {
   "cell_type": "markdown",
   "metadata": {},
   "source": [
    "## 1) Data Cleaning, Transformation and Exploration\n",
    "\n",
    "#### Loading all the libraries and function that we will need."
   ]
  },
  {
   "cell_type": "code",
   "execution_count": 1,
   "metadata": {},
   "outputs": [],
   "source": [
    "import numpy as np\n",
    "import pandas as pd\n",
    "import matplotlib as mpl\n",
    "import matplotlib.pyplot as plt\n",
    "from seaborn import countplot\n",
    "from matplotlib.pyplot import figure, show\n",
    "import seaborn as sns\n",
    "%matplotlib inline"
   ]
  },
  {
   "cell_type": "markdown",
   "metadata": {},
   "source": [
    "#### Uploading the data as dataframe and renaming the columns into more informative names."
   ]
  },
  {
   "cell_type": "code",
   "execution_count": 2,
   "metadata": {},
   "outputs": [
    {
     "name": "stderr",
     "output_type": "stream",
     "text": [
      "C:\\Users\\Nirav\\Anaconda3\\lib\\site-packages\\IPython\\core\\interactiveshell.py:2785: DtypeWarning: Columns (15) have mixed types. Specify dtype option on import or set low_memory=False.\n",
      "  interactivity=interactivity, compiler=compiler, result=result)\n"
     ]
    }
   ],
   "source": [
    "new_cols = ['Int_Rate', 'Loan _ID','Cust_ID','Amt_Req','Amt_Fun','Inv_Por','Loan_Duration','Loan_Grade','Loan_Subgrade','Cust_Title',\n",
    "'Cust_Exp','Owner_Status','Cust_Income','VerCust_Income','Loan_Date','Loan_Reason','Loan_Cat','Loan_Title','Cust_State','Debt_Ratio',\n",
    "'CustDelin_2Yrs', 'Cust_ageofcredit','CustNoDelin_mnths','Cust_PubRec','Cust_DerPubRec','Cust_CreditLine','Cust_LoanStatus']\n",
    "data1 = pd.read_csv('loan_interest_rates.csv', skiprows=1, header =None, names=new_cols)"
   ]
  },
  {
   "cell_type": "markdown",
   "metadata": {},
   "source": [
    "#### Exploring the content of data"
   ]
  },
  {
   "cell_type": "code",
   "execution_count": 3,
   "metadata": {},
   "outputs": [
    {
     "data": {
      "text/html": [
       "<div>\n",
       "<style scoped>\n",
       "    .dataframe tbody tr th:only-of-type {\n",
       "        vertical-align: middle;\n",
       "    }\n",
       "\n",
       "    .dataframe tbody tr th {\n",
       "        vertical-align: top;\n",
       "    }\n",
       "\n",
       "    .dataframe thead th {\n",
       "        text-align: right;\n",
       "    }\n",
       "</style>\n",
       "<table border=\"1\" class=\"dataframe\">\n",
       "  <thead>\n",
       "    <tr style=\"text-align: right;\">\n",
       "      <th></th>\n",
       "      <th>Int_Rate</th>\n",
       "      <th>Loan _ID</th>\n",
       "      <th>Cust_ID</th>\n",
       "      <th>Amt_Req</th>\n",
       "      <th>Amt_Fun</th>\n",
       "      <th>Inv_Por</th>\n",
       "      <th>Loan_Duration</th>\n",
       "      <th>Loan_Grade</th>\n",
       "      <th>Loan_Subgrade</th>\n",
       "      <th>Cust_Title</th>\n",
       "      <th>...</th>\n",
       "      <th>Loan_Title</th>\n",
       "      <th>Cust_State</th>\n",
       "      <th>Debt_Ratio</th>\n",
       "      <th>CustDelin_2Yrs</th>\n",
       "      <th>Cust_ageofcredit</th>\n",
       "      <th>CustNoDelin_mnths</th>\n",
       "      <th>Cust_PubRec</th>\n",
       "      <th>Cust_DerPubRec</th>\n",
       "      <th>Cust_CreditLine</th>\n",
       "      <th>Cust_LoanStatus</th>\n",
       "    </tr>\n",
       "  </thead>\n",
       "  <tbody>\n",
       "    <tr>\n",
       "      <th>0</th>\n",
       "      <td>0.1189</td>\n",
       "      <td>54734.0</td>\n",
       "      <td>80364.0</td>\n",
       "      <td>25000.0</td>\n",
       "      <td>25000.0</td>\n",
       "      <td>19080.0</td>\n",
       "      <td>36 months</td>\n",
       "      <td>B</td>\n",
       "      <td>B4</td>\n",
       "      <td>NaN</td>\n",
       "      <td>...</td>\n",
       "      <td>Debt consolidation for on-time payer</td>\n",
       "      <td>CA</td>\n",
       "      <td>19.48</td>\n",
       "      <td>0.0</td>\n",
       "      <td>2/1/1994</td>\n",
       "      <td>NaN</td>\n",
       "      <td>NaN</td>\n",
       "      <td>0.0</td>\n",
       "      <td>42.0</td>\n",
       "      <td>f</td>\n",
       "    </tr>\n",
       "    <tr>\n",
       "      <th>1</th>\n",
       "      <td>0.1071</td>\n",
       "      <td>55742.0</td>\n",
       "      <td>114426.0</td>\n",
       "      <td>7000.0</td>\n",
       "      <td>7000.0</td>\n",
       "      <td>673.0</td>\n",
       "      <td>36 months</td>\n",
       "      <td>B</td>\n",
       "      <td>B5</td>\n",
       "      <td>CNN</td>\n",
       "      <td>...</td>\n",
       "      <td>Credit Card payoff</td>\n",
       "      <td>NY</td>\n",
       "      <td>14.29</td>\n",
       "      <td>0.0</td>\n",
       "      <td>10/1/2000</td>\n",
       "      <td>NaN</td>\n",
       "      <td>NaN</td>\n",
       "      <td>0.0</td>\n",
       "      <td>7.0</td>\n",
       "      <td>f</td>\n",
       "    </tr>\n",
       "    <tr>\n",
       "      <th>2</th>\n",
       "      <td>0.1699</td>\n",
       "      <td>57167.0</td>\n",
       "      <td>137225.0</td>\n",
       "      <td>25000.0</td>\n",
       "      <td>25000.0</td>\n",
       "      <td>24725.0</td>\n",
       "      <td>36 months</td>\n",
       "      <td>D</td>\n",
       "      <td>D3</td>\n",
       "      <td>Web Programmer</td>\n",
       "      <td>...</td>\n",
       "      <td>mlue</td>\n",
       "      <td>NY</td>\n",
       "      <td>10.50</td>\n",
       "      <td>0.0</td>\n",
       "      <td>6/1/2000</td>\n",
       "      <td>41.0</td>\n",
       "      <td>NaN</td>\n",
       "      <td>0.0</td>\n",
       "      <td>17.0</td>\n",
       "      <td>f</td>\n",
       "    </tr>\n",
       "    <tr>\n",
       "      <th>3</th>\n",
       "      <td>0.1311</td>\n",
       "      <td>57245.0</td>\n",
       "      <td>138150.0</td>\n",
       "      <td>1200.0</td>\n",
       "      <td>1200.0</td>\n",
       "      <td>1200.0</td>\n",
       "      <td>36 months</td>\n",
       "      <td>C</td>\n",
       "      <td>C2</td>\n",
       "      <td>city of beaumont texas</td>\n",
       "      <td>...</td>\n",
       "      <td>zxcvb</td>\n",
       "      <td>TX</td>\n",
       "      <td>5.47</td>\n",
       "      <td>0.0</td>\n",
       "      <td>1/1/1985</td>\n",
       "      <td>64.0</td>\n",
       "      <td>NaN</td>\n",
       "      <td>0.0</td>\n",
       "      <td>31.0</td>\n",
       "      <td>f</td>\n",
       "    </tr>\n",
       "    <tr>\n",
       "      <th>4</th>\n",
       "      <td>0.1357</td>\n",
       "      <td>57416.0</td>\n",
       "      <td>139635.0</td>\n",
       "      <td>10800.0</td>\n",
       "      <td>10800.0</td>\n",
       "      <td>10692.0</td>\n",
       "      <td>36 months</td>\n",
       "      <td>C</td>\n",
       "      <td>C3</td>\n",
       "      <td>State Farm Insurance</td>\n",
       "      <td>...</td>\n",
       "      <td>Nicolechr1978</td>\n",
       "      <td>CT</td>\n",
       "      <td>11.63</td>\n",
       "      <td>0.0</td>\n",
       "      <td>12/1/1996</td>\n",
       "      <td>58.0</td>\n",
       "      <td>NaN</td>\n",
       "      <td>0.0</td>\n",
       "      <td>40.0</td>\n",
       "      <td>f</td>\n",
       "    </tr>\n",
       "  </tbody>\n",
       "</table>\n",
       "<p>5 rows × 27 columns</p>\n",
       "</div>"
      ],
      "text/plain": [
       "   Int_Rate  Loan _ID   Cust_ID  Amt_Req  Amt_Fun  Inv_Por Loan_Duration  \\\n",
       "0    0.1189   54734.0   80364.0  25000.0  25000.0  19080.0     36 months   \n",
       "1    0.1071   55742.0  114426.0   7000.0   7000.0    673.0     36 months   \n",
       "2    0.1699   57167.0  137225.0  25000.0  25000.0  24725.0     36 months   \n",
       "3    0.1311   57245.0  138150.0   1200.0   1200.0   1200.0     36 months   \n",
       "4    0.1357   57416.0  139635.0  10800.0  10800.0  10692.0     36 months   \n",
       "\n",
       "  Loan_Grade Loan_Subgrade              Cust_Title       ...         \\\n",
       "0          B            B4                     NaN       ...          \n",
       "1          B            B5                     CNN       ...          \n",
       "2          D            D3          Web Programmer       ...          \n",
       "3          C            C2  city of beaumont texas       ...          \n",
       "4          C            C3    State Farm Insurance       ...          \n",
       "\n",
       "                             Loan_Title Cust_State  Debt_Ratio CustDelin_2Yrs  \\\n",
       "0  Debt consolidation for on-time payer         CA       19.48            0.0   \n",
       "1                    Credit Card payoff         NY       14.29            0.0   \n",
       "2                                  mlue         NY       10.50            0.0   \n",
       "3                                 zxcvb         TX        5.47            0.0   \n",
       "4                         Nicolechr1978         CT       11.63            0.0   \n",
       "\n",
       "  Cust_ageofcredit CustNoDelin_mnths Cust_PubRec Cust_DerPubRec  \\\n",
       "0         2/1/1994               NaN         NaN            0.0   \n",
       "1        10/1/2000               NaN         NaN            0.0   \n",
       "2         6/1/2000              41.0         NaN            0.0   \n",
       "3         1/1/1985              64.0         NaN            0.0   \n",
       "4        12/1/1996              58.0         NaN            0.0   \n",
       "\n",
       "  Cust_CreditLine  Cust_LoanStatus  \n",
       "0            42.0                f  \n",
       "1             7.0                f  \n",
       "2            17.0                f  \n",
       "3            31.0                f  \n",
       "4            40.0                f  \n",
       "\n",
       "[5 rows x 27 columns]"
      ]
     },
     "execution_count": 3,
     "metadata": {},
     "output_type": "execute_result"
    }
   ],
   "source": [
    "data1.head()"
   ]
  },
  {
   "cell_type": "code",
   "execution_count": 4,
   "metadata": {},
   "outputs": [
    {
     "data": {
      "text/plain": [
       "(400000, 27)"
      ]
     },
     "execution_count": 4,
     "metadata": {},
     "output_type": "execute_result"
    }
   ],
   "source": [
    "data1.shape"
   ]
  },
  {
   "cell_type": "markdown",
   "metadata": {},
   "source": [
    "### Data Cleaning: Dropping unwanted columns\n",
    "The data is about interest rates of loans for different customers. I will analyze the data as if we were to predict interest rates of loan for customers based on the variables provided. After going through each column of the data, it seems that their are several columns which may not provided any useful information in determining the interest rates. Such columns are unique ID of loan and borrower, Investor funded portion of loan, loan subgrade, job title, income verified, reason for loan, loan title, number of months since last delinquency and number of months since public record. Each of this columns do provide some information but it is not very useful for determing interest rates. Hence, I will remove this 10 columns from the data."
   ]
  },
  {
   "cell_type": "code",
   "execution_count": 5,
   "metadata": {},
   "outputs": [],
   "source": [
    "data1.drop(['Loan _ID', 'Cust_ID', 'Inv_Por', 'Loan_Subgrade', 'Cust_Title', 'VerCust_Income', 'Loan_Reason', 'Loan_Title', 'CustNoDelin_mnths', 'Cust_PubRec'], axis=1, inplace=True)"
   ]
  },
  {
   "cell_type": "code",
   "execution_count": 6,
   "metadata": {},
   "outputs": [
    {
     "data": {
      "text/plain": [
       "(400000, 17)"
      ]
     },
     "execution_count": 6,
     "metadata": {},
     "output_type": "execute_result"
    }
   ],
   "source": [
    "data1.shape"
   ]
  },
  {
   "cell_type": "code",
   "execution_count": 7,
   "metadata": {},
   "outputs": [
    {
     "data": {
      "text/html": [
       "<div>\n",
       "<style scoped>\n",
       "    .dataframe tbody tr th:only-of-type {\n",
       "        vertical-align: middle;\n",
       "    }\n",
       "\n",
       "    .dataframe tbody tr th {\n",
       "        vertical-align: top;\n",
       "    }\n",
       "\n",
       "    .dataframe thead th {\n",
       "        text-align: right;\n",
       "    }\n",
       "</style>\n",
       "<table border=\"1\" class=\"dataframe\">\n",
       "  <thead>\n",
       "    <tr style=\"text-align: right;\">\n",
       "      <th></th>\n",
       "      <th>Int_Rate</th>\n",
       "      <th>Amt_Req</th>\n",
       "      <th>Amt_Fun</th>\n",
       "      <th>Loan_Duration</th>\n",
       "      <th>Loan_Grade</th>\n",
       "      <th>Cust_Exp</th>\n",
       "      <th>Owner_Status</th>\n",
       "      <th>Cust_Income</th>\n",
       "      <th>Loan_Date</th>\n",
       "      <th>Loan_Cat</th>\n",
       "      <th>Cust_State</th>\n",
       "      <th>Debt_Ratio</th>\n",
       "      <th>CustDelin_2Yrs</th>\n",
       "      <th>Cust_ageofcredit</th>\n",
       "      <th>Cust_DerPubRec</th>\n",
       "      <th>Cust_CreditLine</th>\n",
       "      <th>Cust_LoanStatus</th>\n",
       "    </tr>\n",
       "  </thead>\n",
       "  <tbody>\n",
       "    <tr>\n",
       "      <th>0</th>\n",
       "      <td>0.1189</td>\n",
       "      <td>25000.0</td>\n",
       "      <td>25000.0</td>\n",
       "      <td>36 months</td>\n",
       "      <td>B</td>\n",
       "      <td>&lt; 1 year</td>\n",
       "      <td>RENT</td>\n",
       "      <td>85000.0</td>\n",
       "      <td>8/9/2019</td>\n",
       "      <td>debt_consolidation</td>\n",
       "      <td>CA</td>\n",
       "      <td>19.48</td>\n",
       "      <td>0.0</td>\n",
       "      <td>2/1/1994</td>\n",
       "      <td>0.0</td>\n",
       "      <td>42.0</td>\n",
       "      <td>f</td>\n",
       "    </tr>\n",
       "    <tr>\n",
       "      <th>1</th>\n",
       "      <td>0.1071</td>\n",
       "      <td>7000.0</td>\n",
       "      <td>7000.0</td>\n",
       "      <td>36 months</td>\n",
       "      <td>B</td>\n",
       "      <td>&lt; 1 year</td>\n",
       "      <td>RENT</td>\n",
       "      <td>65000.0</td>\n",
       "      <td>5/8/2019</td>\n",
       "      <td>credit_card</td>\n",
       "      <td>NY</td>\n",
       "      <td>14.29</td>\n",
       "      <td>0.0</td>\n",
       "      <td>10/1/2000</td>\n",
       "      <td>0.0</td>\n",
       "      <td>7.0</td>\n",
       "      <td>f</td>\n",
       "    </tr>\n",
       "    <tr>\n",
       "      <th>2</th>\n",
       "      <td>0.1699</td>\n",
       "      <td>25000.0</td>\n",
       "      <td>25000.0</td>\n",
       "      <td>36 months</td>\n",
       "      <td>D</td>\n",
       "      <td>1 year</td>\n",
       "      <td>RENT</td>\n",
       "      <td>70000.0</td>\n",
       "      <td>8/14/2019</td>\n",
       "      <td>debt_consolidation</td>\n",
       "      <td>NY</td>\n",
       "      <td>10.50</td>\n",
       "      <td>0.0</td>\n",
       "      <td>6/1/2000</td>\n",
       "      <td>0.0</td>\n",
       "      <td>17.0</td>\n",
       "      <td>f</td>\n",
       "    </tr>\n",
       "    <tr>\n",
       "      <th>3</th>\n",
       "      <td>0.1311</td>\n",
       "      <td>1200.0</td>\n",
       "      <td>1200.0</td>\n",
       "      <td>36 months</td>\n",
       "      <td>C</td>\n",
       "      <td>10+ years</td>\n",
       "      <td>OWN</td>\n",
       "      <td>54000.0</td>\n",
       "      <td>3/10/2019</td>\n",
       "      <td>debt_consolidation</td>\n",
       "      <td>TX</td>\n",
       "      <td>5.47</td>\n",
       "      <td>0.0</td>\n",
       "      <td>1/1/1985</td>\n",
       "      <td>0.0</td>\n",
       "      <td>31.0</td>\n",
       "      <td>f</td>\n",
       "    </tr>\n",
       "    <tr>\n",
       "      <th>4</th>\n",
       "      <td>0.1357</td>\n",
       "      <td>10800.0</td>\n",
       "      <td>10800.0</td>\n",
       "      <td>36 months</td>\n",
       "      <td>C</td>\n",
       "      <td>6 years</td>\n",
       "      <td>RENT</td>\n",
       "      <td>32000.0</td>\n",
       "      <td>11/9/2019</td>\n",
       "      <td>debt_consolidation</td>\n",
       "      <td>CT</td>\n",
       "      <td>11.63</td>\n",
       "      <td>0.0</td>\n",
       "      <td>12/1/1996</td>\n",
       "      <td>0.0</td>\n",
       "      <td>40.0</td>\n",
       "      <td>f</td>\n",
       "    </tr>\n",
       "  </tbody>\n",
       "</table>\n",
       "</div>"
      ],
      "text/plain": [
       "   Int_Rate  Amt_Req  Amt_Fun Loan_Duration Loan_Grade   Cust_Exp  \\\n",
       "0    0.1189  25000.0  25000.0     36 months          B   < 1 year   \n",
       "1    0.1071   7000.0   7000.0     36 months          B   < 1 year   \n",
       "2    0.1699  25000.0  25000.0     36 months          D     1 year   \n",
       "3    0.1311   1200.0   1200.0     36 months          C  10+ years   \n",
       "4    0.1357  10800.0  10800.0     36 months          C    6 years   \n",
       "\n",
       "  Owner_Status  Cust_Income  Loan_Date            Loan_Cat Cust_State  \\\n",
       "0         RENT      85000.0   8/9/2019  debt_consolidation         CA   \n",
       "1         RENT      65000.0   5/8/2019         credit_card         NY   \n",
       "2         RENT      70000.0  8/14/2019  debt_consolidation         NY   \n",
       "3          OWN      54000.0  3/10/2019  debt_consolidation         TX   \n",
       "4         RENT      32000.0  11/9/2019  debt_consolidation         CT   \n",
       "\n",
       "   Debt_Ratio  CustDelin_2Yrs Cust_ageofcredit  Cust_DerPubRec  \\\n",
       "0       19.48             0.0         2/1/1994             0.0   \n",
       "1       14.29             0.0        10/1/2000             0.0   \n",
       "2       10.50             0.0         6/1/2000             0.0   \n",
       "3        5.47             0.0         1/1/1985             0.0   \n",
       "4       11.63             0.0        12/1/1996             0.0   \n",
       "\n",
       "   Cust_CreditLine Cust_LoanStatus  \n",
       "0             42.0               f  \n",
       "1              7.0               f  \n",
       "2             17.0               f  \n",
       "3             31.0               f  \n",
       "4             40.0               f  "
      ]
     },
     "execution_count": 7,
     "metadata": {},
     "output_type": "execute_result"
    }
   ],
   "source": [
    "data1.head()"
   ]
  },
  {
   "cell_type": "markdown",
   "metadata": {},
   "source": [
    "### Data Cleaning: \n",
    "Remove all the rows which contains any missing values, as they will interfer in the model"
   ]
  },
  {
   "cell_type": "code",
   "execution_count": 8,
   "metadata": {},
   "outputs": [
    {
     "data": {
      "text/html": [
       "<div>\n",
       "<style scoped>\n",
       "    .dataframe tbody tr th:only-of-type {\n",
       "        vertical-align: middle;\n",
       "    }\n",
       "\n",
       "    .dataframe tbody tr th {\n",
       "        vertical-align: top;\n",
       "    }\n",
       "\n",
       "    .dataframe thead th {\n",
       "        text-align: right;\n",
       "    }\n",
       "</style>\n",
       "<table border=\"1\" class=\"dataframe\">\n",
       "  <thead>\n",
       "    <tr style=\"text-align: right;\">\n",
       "      <th></th>\n",
       "      <th>Int_Rate</th>\n",
       "      <th>Amt_Req</th>\n",
       "      <th>Amt_Fun</th>\n",
       "      <th>Loan_Duration</th>\n",
       "      <th>Loan_Grade</th>\n",
       "      <th>Cust_Exp</th>\n",
       "      <th>Owner_Status</th>\n",
       "      <th>Cust_Income</th>\n",
       "      <th>Loan_Date</th>\n",
       "      <th>Loan_Cat</th>\n",
       "      <th>Cust_State</th>\n",
       "      <th>Debt_Ratio</th>\n",
       "      <th>CustDelin_2Yrs</th>\n",
       "      <th>Cust_ageofcredit</th>\n",
       "      <th>Cust_DerPubRec</th>\n",
       "      <th>Cust_CreditLine</th>\n",
       "      <th>Cust_LoanStatus</th>\n",
       "    </tr>\n",
       "  </thead>\n",
       "  <tbody>\n",
       "    <tr>\n",
       "      <th>0</th>\n",
       "      <td>0.1189</td>\n",
       "      <td>25000.0</td>\n",
       "      <td>25000.0</td>\n",
       "      <td>36 months</td>\n",
       "      <td>B</td>\n",
       "      <td>&lt; 1 year</td>\n",
       "      <td>RENT</td>\n",
       "      <td>85000.0</td>\n",
       "      <td>8/9/2019</td>\n",
       "      <td>debt_consolidation</td>\n",
       "      <td>CA</td>\n",
       "      <td>19.48</td>\n",
       "      <td>0.0</td>\n",
       "      <td>2/1/1994</td>\n",
       "      <td>0.0</td>\n",
       "      <td>42.0</td>\n",
       "      <td>f</td>\n",
       "    </tr>\n",
       "    <tr>\n",
       "      <th>1</th>\n",
       "      <td>0.1071</td>\n",
       "      <td>7000.0</td>\n",
       "      <td>7000.0</td>\n",
       "      <td>36 months</td>\n",
       "      <td>B</td>\n",
       "      <td>&lt; 1 year</td>\n",
       "      <td>RENT</td>\n",
       "      <td>65000.0</td>\n",
       "      <td>5/8/2019</td>\n",
       "      <td>credit_card</td>\n",
       "      <td>NY</td>\n",
       "      <td>14.29</td>\n",
       "      <td>0.0</td>\n",
       "      <td>10/1/2000</td>\n",
       "      <td>0.0</td>\n",
       "      <td>7.0</td>\n",
       "      <td>f</td>\n",
       "    </tr>\n",
       "    <tr>\n",
       "      <th>2</th>\n",
       "      <td>0.1699</td>\n",
       "      <td>25000.0</td>\n",
       "      <td>25000.0</td>\n",
       "      <td>36 months</td>\n",
       "      <td>D</td>\n",
       "      <td>1 year</td>\n",
       "      <td>RENT</td>\n",
       "      <td>70000.0</td>\n",
       "      <td>8/14/2019</td>\n",
       "      <td>debt_consolidation</td>\n",
       "      <td>NY</td>\n",
       "      <td>10.50</td>\n",
       "      <td>0.0</td>\n",
       "      <td>6/1/2000</td>\n",
       "      <td>0.0</td>\n",
       "      <td>17.0</td>\n",
       "      <td>f</td>\n",
       "    </tr>\n",
       "    <tr>\n",
       "      <th>3</th>\n",
       "      <td>0.1311</td>\n",
       "      <td>1200.0</td>\n",
       "      <td>1200.0</td>\n",
       "      <td>36 months</td>\n",
       "      <td>C</td>\n",
       "      <td>10+ years</td>\n",
       "      <td>OWN</td>\n",
       "      <td>54000.0</td>\n",
       "      <td>3/10/2019</td>\n",
       "      <td>debt_consolidation</td>\n",
       "      <td>TX</td>\n",
       "      <td>5.47</td>\n",
       "      <td>0.0</td>\n",
       "      <td>1/1/1985</td>\n",
       "      <td>0.0</td>\n",
       "      <td>31.0</td>\n",
       "      <td>f</td>\n",
       "    </tr>\n",
       "    <tr>\n",
       "      <th>4</th>\n",
       "      <td>0.1357</td>\n",
       "      <td>10800.0</td>\n",
       "      <td>10800.0</td>\n",
       "      <td>36 months</td>\n",
       "      <td>C</td>\n",
       "      <td>6 years</td>\n",
       "      <td>RENT</td>\n",
       "      <td>32000.0</td>\n",
       "      <td>11/9/2019</td>\n",
       "      <td>debt_consolidation</td>\n",
       "      <td>CT</td>\n",
       "      <td>11.63</td>\n",
       "      <td>0.0</td>\n",
       "      <td>12/1/1996</td>\n",
       "      <td>0.0</td>\n",
       "      <td>40.0</td>\n",
       "      <td>f</td>\n",
       "    </tr>\n",
       "  </tbody>\n",
       "</table>\n",
       "</div>"
      ],
      "text/plain": [
       "   Int_Rate  Amt_Req  Amt_Fun Loan_Duration Loan_Grade   Cust_Exp  \\\n",
       "0    0.1189  25000.0  25000.0     36 months          B   < 1 year   \n",
       "1    0.1071   7000.0   7000.0     36 months          B   < 1 year   \n",
       "2    0.1699  25000.0  25000.0     36 months          D     1 year   \n",
       "3    0.1311   1200.0   1200.0     36 months          C  10+ years   \n",
       "4    0.1357  10800.0  10800.0     36 months          C    6 years   \n",
       "\n",
       "  Owner_Status  Cust_Income  Loan_Date            Loan_Cat Cust_State  \\\n",
       "0         RENT      85000.0   8/9/2019  debt_consolidation         CA   \n",
       "1         RENT      65000.0   5/8/2019         credit_card         NY   \n",
       "2         RENT      70000.0  8/14/2019  debt_consolidation         NY   \n",
       "3          OWN      54000.0  3/10/2019  debt_consolidation         TX   \n",
       "4         RENT      32000.0  11/9/2019  debt_consolidation         CT   \n",
       "\n",
       "   Debt_Ratio  CustDelin_2Yrs Cust_ageofcredit  Cust_DerPubRec  \\\n",
       "0       19.48             0.0         2/1/1994             0.0   \n",
       "1       14.29             0.0        10/1/2000             0.0   \n",
       "2       10.50             0.0         6/1/2000             0.0   \n",
       "3        5.47             0.0         1/1/1985             0.0   \n",
       "4       11.63             0.0        12/1/1996             0.0   \n",
       "\n",
       "   Cust_CreditLine Cust_LoanStatus  \n",
       "0             42.0               f  \n",
       "1              7.0               f  \n",
       "2             17.0               f  \n",
       "3             31.0               f  \n",
       "4             40.0               f  "
      ]
     },
     "execution_count": 8,
     "metadata": {},
     "output_type": "execute_result"
    }
   ],
   "source": [
    "data1.dropna().head()"
   ]
  },
  {
   "cell_type": "code",
   "execution_count": 9,
   "metadata": {},
   "outputs": [],
   "source": [
    "data2 = data1.dropna().reset_index(drop=True)"
   ]
  },
  {
   "cell_type": "code",
   "execution_count": 10,
   "metadata": {},
   "outputs": [
    {
     "data": {
      "text/plain": [
       "(196778, 17)"
      ]
     },
     "execution_count": 10,
     "metadata": {},
     "output_type": "execute_result"
    }
   ],
   "source": [
    "data2.shape"
   ]
  },
  {
   "cell_type": "code",
   "execution_count": 11,
   "metadata": {},
   "outputs": [
    {
     "name": "stdout",
     "output_type": "stream",
     "text": [
      "<class 'pandas.core.frame.DataFrame'>\n",
      "RangeIndex: 196778 entries, 0 to 196777\n",
      "Data columns (total 17 columns):\n",
      "Int_Rate            196778 non-null float64\n",
      "Amt_Req             196778 non-null float64\n",
      "Amt_Fun             196778 non-null float64\n",
      "Loan_Duration       196778 non-null object\n",
      "Loan_Grade          196778 non-null object\n",
      "Cust_Exp            196778 non-null object\n",
      "Owner_Status        196778 non-null object\n",
      "Cust_Income         196778 non-null float64\n",
      "Loan_Date           196778 non-null object\n",
      "Loan_Cat            196778 non-null object\n",
      "Cust_State          196778 non-null object\n",
      "Debt_Ratio          196778 non-null float64\n",
      "CustDelin_2Yrs      196778 non-null float64\n",
      "Cust_ageofcredit    196778 non-null object\n",
      "Cust_DerPubRec      196778 non-null float64\n",
      "Cust_CreditLine     196778 non-null float64\n",
      "Cust_LoanStatus     196778 non-null object\n",
      "dtypes: float64(8), object(9)\n",
      "memory usage: 25.5+ MB\n"
     ]
    }
   ],
   "source": [
    "data2.info() "
   ]
  },
  {
   "cell_type": "code",
   "execution_count": 12,
   "metadata": {},
   "outputs": [
    {
     "data": {
      "text/html": [
       "<div>\n",
       "<style scoped>\n",
       "    .dataframe tbody tr th:only-of-type {\n",
       "        vertical-align: middle;\n",
       "    }\n",
       "\n",
       "    .dataframe tbody tr th {\n",
       "        vertical-align: top;\n",
       "    }\n",
       "\n",
       "    .dataframe thead th {\n",
       "        text-align: right;\n",
       "    }\n",
       "</style>\n",
       "<table border=\"1\" class=\"dataframe\">\n",
       "  <thead>\n",
       "    <tr style=\"text-align: right;\">\n",
       "      <th></th>\n",
       "      <th>Int_Rate</th>\n",
       "      <th>Amt_Req</th>\n",
       "      <th>Amt_Fun</th>\n",
       "      <th>Loan_Duration</th>\n",
       "      <th>Loan_Grade</th>\n",
       "      <th>Cust_Exp</th>\n",
       "      <th>Owner_Status</th>\n",
       "      <th>Cust_Income</th>\n",
       "      <th>Loan_Date</th>\n",
       "      <th>Loan_Cat</th>\n",
       "      <th>Cust_State</th>\n",
       "      <th>Debt_Ratio</th>\n",
       "      <th>CustDelin_2Yrs</th>\n",
       "      <th>Cust_ageofcredit</th>\n",
       "      <th>Cust_DerPubRec</th>\n",
       "      <th>Cust_CreditLine</th>\n",
       "      <th>Cust_LoanStatus</th>\n",
       "    </tr>\n",
       "  </thead>\n",
       "  <tbody>\n",
       "    <tr>\n",
       "      <th>0</th>\n",
       "      <td>0.1189</td>\n",
       "      <td>25000.0</td>\n",
       "      <td>25000.0</td>\n",
       "      <td>36 months</td>\n",
       "      <td>B</td>\n",
       "      <td>&lt; 1 year</td>\n",
       "      <td>RENT</td>\n",
       "      <td>85000.0</td>\n",
       "      <td>8/9/2019</td>\n",
       "      <td>debt_consolidation</td>\n",
       "      <td>CA</td>\n",
       "      <td>19.48</td>\n",
       "      <td>0.0</td>\n",
       "      <td>2/1/1994</td>\n",
       "      <td>0.0</td>\n",
       "      <td>42.0</td>\n",
       "      <td>f</td>\n",
       "    </tr>\n",
       "    <tr>\n",
       "      <th>1</th>\n",
       "      <td>0.1071</td>\n",
       "      <td>7000.0</td>\n",
       "      <td>7000.0</td>\n",
       "      <td>36 months</td>\n",
       "      <td>B</td>\n",
       "      <td>&lt; 1 year</td>\n",
       "      <td>RENT</td>\n",
       "      <td>65000.0</td>\n",
       "      <td>5/8/2019</td>\n",
       "      <td>credit_card</td>\n",
       "      <td>NY</td>\n",
       "      <td>14.29</td>\n",
       "      <td>0.0</td>\n",
       "      <td>10/1/2000</td>\n",
       "      <td>0.0</td>\n",
       "      <td>7.0</td>\n",
       "      <td>f</td>\n",
       "    </tr>\n",
       "    <tr>\n",
       "      <th>2</th>\n",
       "      <td>0.1699</td>\n",
       "      <td>25000.0</td>\n",
       "      <td>25000.0</td>\n",
       "      <td>36 months</td>\n",
       "      <td>D</td>\n",
       "      <td>1 year</td>\n",
       "      <td>RENT</td>\n",
       "      <td>70000.0</td>\n",
       "      <td>8/14/2019</td>\n",
       "      <td>debt_consolidation</td>\n",
       "      <td>NY</td>\n",
       "      <td>10.50</td>\n",
       "      <td>0.0</td>\n",
       "      <td>6/1/2000</td>\n",
       "      <td>0.0</td>\n",
       "      <td>17.0</td>\n",
       "      <td>f</td>\n",
       "    </tr>\n",
       "    <tr>\n",
       "      <th>3</th>\n",
       "      <td>0.1311</td>\n",
       "      <td>1200.0</td>\n",
       "      <td>1200.0</td>\n",
       "      <td>36 months</td>\n",
       "      <td>C</td>\n",
       "      <td>10+ years</td>\n",
       "      <td>OWN</td>\n",
       "      <td>54000.0</td>\n",
       "      <td>3/10/2019</td>\n",
       "      <td>debt_consolidation</td>\n",
       "      <td>TX</td>\n",
       "      <td>5.47</td>\n",
       "      <td>0.0</td>\n",
       "      <td>1/1/1985</td>\n",
       "      <td>0.0</td>\n",
       "      <td>31.0</td>\n",
       "      <td>f</td>\n",
       "    </tr>\n",
       "    <tr>\n",
       "      <th>4</th>\n",
       "      <td>0.1357</td>\n",
       "      <td>10800.0</td>\n",
       "      <td>10800.0</td>\n",
       "      <td>36 months</td>\n",
       "      <td>C</td>\n",
       "      <td>6 years</td>\n",
       "      <td>RENT</td>\n",
       "      <td>32000.0</td>\n",
       "      <td>11/9/2019</td>\n",
       "      <td>debt_consolidation</td>\n",
       "      <td>CT</td>\n",
       "      <td>11.63</td>\n",
       "      <td>0.0</td>\n",
       "      <td>12/1/1996</td>\n",
       "      <td>0.0</td>\n",
       "      <td>40.0</td>\n",
       "      <td>f</td>\n",
       "    </tr>\n",
       "    <tr>\n",
       "      <th>5</th>\n",
       "      <td>0.1905</td>\n",
       "      <td>7200.0</td>\n",
       "      <td>7200.0</td>\n",
       "      <td>36 months</td>\n",
       "      <td>D</td>\n",
       "      <td>9 years</td>\n",
       "      <td>RENT</td>\n",
       "      <td>58000.0</td>\n",
       "      <td>8/12/2019</td>\n",
       "      <td>debt_consolidation</td>\n",
       "      <td>RI</td>\n",
       "      <td>2.05</td>\n",
       "      <td>0.0</td>\n",
       "      <td>4/1/1994</td>\n",
       "      <td>0.0</td>\n",
       "      <td>25.0</td>\n",
       "      <td>f</td>\n",
       "    </tr>\n",
       "    <tr>\n",
       "      <th>6</th>\n",
       "      <td>0.1008</td>\n",
       "      <td>7500.0</td>\n",
       "      <td>5025.0</td>\n",
       "      <td>36 months</td>\n",
       "      <td>B</td>\n",
       "      <td>3 years</td>\n",
       "      <td>RENT</td>\n",
       "      <td>85000.0</td>\n",
       "      <td>4/8/2019</td>\n",
       "      <td>debt_consolidation</td>\n",
       "      <td>CA</td>\n",
       "      <td>8.10</td>\n",
       "      <td>0.0</td>\n",
       "      <td>11/1/2000</td>\n",
       "      <td>0.0</td>\n",
       "      <td>11.0</td>\n",
       "      <td>f</td>\n",
       "    </tr>\n",
       "    <tr>\n",
       "      <th>7</th>\n",
       "      <td>0.1426</td>\n",
       "      <td>3000.0</td>\n",
       "      <td>3000.0</td>\n",
       "      <td>36 months</td>\n",
       "      <td>C</td>\n",
       "      <td>3 years</td>\n",
       "      <td>MORTGAGE</td>\n",
       "      <td>80800.0</td>\n",
       "      <td>9/9/2019</td>\n",
       "      <td>credit_card</td>\n",
       "      <td>TX</td>\n",
       "      <td>14.97</td>\n",
       "      <td>1.0</td>\n",
       "      <td>7/1/1998</td>\n",
       "      <td>0.0</td>\n",
       "      <td>23.0</td>\n",
       "      <td>f</td>\n",
       "    </tr>\n",
       "    <tr>\n",
       "      <th>8</th>\n",
       "      <td>0.0788</td>\n",
       "      <td>4000.0</td>\n",
       "      <td>4000.0</td>\n",
       "      <td>36 months</td>\n",
       "      <td>A</td>\n",
       "      <td>&lt; 1 year</td>\n",
       "      <td>MORTGAGE</td>\n",
       "      <td>148000.0</td>\n",
       "      <td>2/10/2019</td>\n",
       "      <td>credit_card</td>\n",
       "      <td>TX</td>\n",
       "      <td>16.98</td>\n",
       "      <td>0.0</td>\n",
       "      <td>5/1/1993</td>\n",
       "      <td>0.0</td>\n",
       "      <td>19.0</td>\n",
       "      <td>f</td>\n",
       "    </tr>\n",
       "    <tr>\n",
       "      <th>9</th>\n",
       "      <td>0.1496</td>\n",
       "      <td>5600.0</td>\n",
       "      <td>5600.0</td>\n",
       "      <td>36 months</td>\n",
       "      <td>D</td>\n",
       "      <td>1 year</td>\n",
       "      <td>RENT</td>\n",
       "      <td>45000.0</td>\n",
       "      <td>2/10/2019</td>\n",
       "      <td>debt_consolidation</td>\n",
       "      <td>MD</td>\n",
       "      <td>4.00</td>\n",
       "      <td>0.0</td>\n",
       "      <td>6/1/2019</td>\n",
       "      <td>1.0</td>\n",
       "      <td>9.0</td>\n",
       "      <td>f</td>\n",
       "    </tr>\n",
       "  </tbody>\n",
       "</table>\n",
       "</div>"
      ],
      "text/plain": [
       "   Int_Rate  Amt_Req  Amt_Fun Loan_Duration Loan_Grade   Cust_Exp  \\\n",
       "0    0.1189  25000.0  25000.0     36 months          B   < 1 year   \n",
       "1    0.1071   7000.0   7000.0     36 months          B   < 1 year   \n",
       "2    0.1699  25000.0  25000.0     36 months          D     1 year   \n",
       "3    0.1311   1200.0   1200.0     36 months          C  10+ years   \n",
       "4    0.1357  10800.0  10800.0     36 months          C    6 years   \n",
       "5    0.1905   7200.0   7200.0     36 months          D    9 years   \n",
       "6    0.1008   7500.0   5025.0     36 months          B    3 years   \n",
       "7    0.1426   3000.0   3000.0     36 months          C    3 years   \n",
       "8    0.0788   4000.0   4000.0     36 months          A   < 1 year   \n",
       "9    0.1496   5600.0   5600.0     36 months          D     1 year   \n",
       "\n",
       "  Owner_Status  Cust_Income  Loan_Date            Loan_Cat Cust_State  \\\n",
       "0         RENT      85000.0   8/9/2019  debt_consolidation         CA   \n",
       "1         RENT      65000.0   5/8/2019         credit_card         NY   \n",
       "2         RENT      70000.0  8/14/2019  debt_consolidation         NY   \n",
       "3          OWN      54000.0  3/10/2019  debt_consolidation         TX   \n",
       "4         RENT      32000.0  11/9/2019  debt_consolidation         CT   \n",
       "5         RENT      58000.0  8/12/2019  debt_consolidation         RI   \n",
       "6         RENT      85000.0   4/8/2019  debt_consolidation         CA   \n",
       "7     MORTGAGE      80800.0   9/9/2019         credit_card         TX   \n",
       "8     MORTGAGE     148000.0  2/10/2019         credit_card         TX   \n",
       "9         RENT      45000.0  2/10/2019  debt_consolidation         MD   \n",
       "\n",
       "   Debt_Ratio  CustDelin_2Yrs Cust_ageofcredit  Cust_DerPubRec  \\\n",
       "0       19.48             0.0         2/1/1994             0.0   \n",
       "1       14.29             0.0        10/1/2000             0.0   \n",
       "2       10.50             0.0         6/1/2000             0.0   \n",
       "3        5.47             0.0         1/1/1985             0.0   \n",
       "4       11.63             0.0        12/1/1996             0.0   \n",
       "5        2.05             0.0         4/1/1994             0.0   \n",
       "6        8.10             0.0        11/1/2000             0.0   \n",
       "7       14.97             1.0         7/1/1998             0.0   \n",
       "8       16.98             0.0         5/1/1993             0.0   \n",
       "9        4.00             0.0         6/1/2019             1.0   \n",
       "\n",
       "   Cust_CreditLine Cust_LoanStatus  \n",
       "0             42.0               f  \n",
       "1              7.0               f  \n",
       "2             17.0               f  \n",
       "3             31.0               f  \n",
       "4             40.0               f  \n",
       "5             25.0               f  \n",
       "6             11.0               f  \n",
       "7             23.0               f  \n",
       "8             19.0               f  \n",
       "9              9.0               f  "
      ]
     },
     "execution_count": 12,
     "metadata": {},
     "output_type": "execute_result"
    }
   ],
   "source": [
    "data2.head(10)"
   ]
  },
  {
   "cell_type": "markdown",
   "metadata": {},
   "source": [
    "### Data Transformation: Years of experience of customer\n",
    "For Cust_Exp column, the values are combination of numbers, alphabets and symbols. Hence, it is better to convert them into numerical format such as 1,2,3..10 years. We don't have exact number of years of experience after 10 yrs, hence all the 10+ years will be convert to 10 years. Also, their won't be any significant difference in interest rate for someone with experience of 10 years versus 15 years."
   ]
  },
  {
   "cell_type": "code",
   "execution_count": 13,
   "metadata": {},
   "outputs": [],
   "source": [
    "data2.Cust_Exp.fillna(value=0,inplace=True)\n",
    "data2['Cust_Exp'].replace(to_replace='[^0-9]+', value='', inplace=True, regex=True)\n",
    "data2['Cust_Exp'] = data2['Cust_Exp'].astype(int)"
   ]
  },
  {
   "cell_type": "code",
   "execution_count": 14,
   "metadata": {},
   "outputs": [
    {
     "data": {
      "text/html": [
       "<div>\n",
       "<style scoped>\n",
       "    .dataframe tbody tr th:only-of-type {\n",
       "        vertical-align: middle;\n",
       "    }\n",
       "\n",
       "    .dataframe tbody tr th {\n",
       "        vertical-align: top;\n",
       "    }\n",
       "\n",
       "    .dataframe thead th {\n",
       "        text-align: right;\n",
       "    }\n",
       "</style>\n",
       "<table border=\"1\" class=\"dataframe\">\n",
       "  <thead>\n",
       "    <tr style=\"text-align: right;\">\n",
       "      <th></th>\n",
       "      <th>Int_Rate</th>\n",
       "      <th>Amt_Req</th>\n",
       "      <th>Amt_Fun</th>\n",
       "      <th>Loan_Duration</th>\n",
       "      <th>Loan_Grade</th>\n",
       "      <th>Cust_Exp</th>\n",
       "      <th>Owner_Status</th>\n",
       "      <th>Cust_Income</th>\n",
       "      <th>Loan_Date</th>\n",
       "      <th>Loan_Cat</th>\n",
       "      <th>Cust_State</th>\n",
       "      <th>Debt_Ratio</th>\n",
       "      <th>CustDelin_2Yrs</th>\n",
       "      <th>Cust_ageofcredit</th>\n",
       "      <th>Cust_DerPubRec</th>\n",
       "      <th>Cust_CreditLine</th>\n",
       "      <th>Cust_LoanStatus</th>\n",
       "    </tr>\n",
       "  </thead>\n",
       "  <tbody>\n",
       "    <tr>\n",
       "      <th>0</th>\n",
       "      <td>0.1189</td>\n",
       "      <td>25000.0</td>\n",
       "      <td>25000.0</td>\n",
       "      <td>36 months</td>\n",
       "      <td>B</td>\n",
       "      <td>1</td>\n",
       "      <td>RENT</td>\n",
       "      <td>85000.0</td>\n",
       "      <td>8/9/2019</td>\n",
       "      <td>debt_consolidation</td>\n",
       "      <td>CA</td>\n",
       "      <td>19.48</td>\n",
       "      <td>0.0</td>\n",
       "      <td>2/1/1994</td>\n",
       "      <td>0.0</td>\n",
       "      <td>42.0</td>\n",
       "      <td>f</td>\n",
       "    </tr>\n",
       "    <tr>\n",
       "      <th>1</th>\n",
       "      <td>0.1071</td>\n",
       "      <td>7000.0</td>\n",
       "      <td>7000.0</td>\n",
       "      <td>36 months</td>\n",
       "      <td>B</td>\n",
       "      <td>1</td>\n",
       "      <td>RENT</td>\n",
       "      <td>65000.0</td>\n",
       "      <td>5/8/2019</td>\n",
       "      <td>credit_card</td>\n",
       "      <td>NY</td>\n",
       "      <td>14.29</td>\n",
       "      <td>0.0</td>\n",
       "      <td>10/1/2000</td>\n",
       "      <td>0.0</td>\n",
       "      <td>7.0</td>\n",
       "      <td>f</td>\n",
       "    </tr>\n",
       "    <tr>\n",
       "      <th>2</th>\n",
       "      <td>0.1699</td>\n",
       "      <td>25000.0</td>\n",
       "      <td>25000.0</td>\n",
       "      <td>36 months</td>\n",
       "      <td>D</td>\n",
       "      <td>1</td>\n",
       "      <td>RENT</td>\n",
       "      <td>70000.0</td>\n",
       "      <td>8/14/2019</td>\n",
       "      <td>debt_consolidation</td>\n",
       "      <td>NY</td>\n",
       "      <td>10.50</td>\n",
       "      <td>0.0</td>\n",
       "      <td>6/1/2000</td>\n",
       "      <td>0.0</td>\n",
       "      <td>17.0</td>\n",
       "      <td>f</td>\n",
       "    </tr>\n",
       "    <tr>\n",
       "      <th>3</th>\n",
       "      <td>0.1311</td>\n",
       "      <td>1200.0</td>\n",
       "      <td>1200.0</td>\n",
       "      <td>36 months</td>\n",
       "      <td>C</td>\n",
       "      <td>10</td>\n",
       "      <td>OWN</td>\n",
       "      <td>54000.0</td>\n",
       "      <td>3/10/2019</td>\n",
       "      <td>debt_consolidation</td>\n",
       "      <td>TX</td>\n",
       "      <td>5.47</td>\n",
       "      <td>0.0</td>\n",
       "      <td>1/1/1985</td>\n",
       "      <td>0.0</td>\n",
       "      <td>31.0</td>\n",
       "      <td>f</td>\n",
       "    </tr>\n",
       "    <tr>\n",
       "      <th>4</th>\n",
       "      <td>0.1357</td>\n",
       "      <td>10800.0</td>\n",
       "      <td>10800.0</td>\n",
       "      <td>36 months</td>\n",
       "      <td>C</td>\n",
       "      <td>6</td>\n",
       "      <td>RENT</td>\n",
       "      <td>32000.0</td>\n",
       "      <td>11/9/2019</td>\n",
       "      <td>debt_consolidation</td>\n",
       "      <td>CT</td>\n",
       "      <td>11.63</td>\n",
       "      <td>0.0</td>\n",
       "      <td>12/1/1996</td>\n",
       "      <td>0.0</td>\n",
       "      <td>40.0</td>\n",
       "      <td>f</td>\n",
       "    </tr>\n",
       "  </tbody>\n",
       "</table>\n",
       "</div>"
      ],
      "text/plain": [
       "   Int_Rate  Amt_Req  Amt_Fun Loan_Duration Loan_Grade  Cust_Exp Owner_Status  \\\n",
       "0    0.1189  25000.0  25000.0     36 months          B         1         RENT   \n",
       "1    0.1071   7000.0   7000.0     36 months          B         1         RENT   \n",
       "2    0.1699  25000.0  25000.0     36 months          D         1         RENT   \n",
       "3    0.1311   1200.0   1200.0     36 months          C        10          OWN   \n",
       "4    0.1357  10800.0  10800.0     36 months          C         6         RENT   \n",
       "\n",
       "   Cust_Income  Loan_Date            Loan_Cat Cust_State  Debt_Ratio  \\\n",
       "0      85000.0   8/9/2019  debt_consolidation         CA       19.48   \n",
       "1      65000.0   5/8/2019         credit_card         NY       14.29   \n",
       "2      70000.0  8/14/2019  debt_consolidation         NY       10.50   \n",
       "3      54000.0  3/10/2019  debt_consolidation         TX        5.47   \n",
       "4      32000.0  11/9/2019  debt_consolidation         CT       11.63   \n",
       "\n",
       "   CustDelin_2Yrs Cust_ageofcredit  Cust_DerPubRec  Cust_CreditLine  \\\n",
       "0             0.0         2/1/1994             0.0             42.0   \n",
       "1             0.0        10/1/2000             0.0              7.0   \n",
       "2             0.0         6/1/2000             0.0             17.0   \n",
       "3             0.0         1/1/1985             0.0             31.0   \n",
       "4             0.0        12/1/1996             0.0             40.0   \n",
       "\n",
       "  Cust_LoanStatus  \n",
       "0               f  \n",
       "1               f  \n",
       "2               f  \n",
       "3               f  \n",
       "4               f  "
      ]
     },
     "execution_count": 14,
     "metadata": {},
     "output_type": "execute_result"
    }
   ],
   "source": [
    "data2.head()"
   ]
  },
  {
   "cell_type": "markdown",
   "metadata": {},
   "source": [
    "### Data Transformation: Date of Loan\n",
    "Converting the format of date into months, as all the data is from the same year(2019)."
   ]
  },
  {
   "cell_type": "code",
   "execution_count": 15,
   "metadata": {},
   "outputs": [],
   "source": [
    "from datetime import datetime\n",
    "data2.Loan_Date = pd.to_datetime(data2.Loan_Date).dt.month\n",
    "#final.Loan_Date.value_counts().sort_index().plot(kind='bar')"
   ]
  },
  {
   "cell_type": "code",
   "execution_count": 16,
   "metadata": {},
   "outputs": [
    {
     "data": {
      "text/html": [
       "<div>\n",
       "<style scoped>\n",
       "    .dataframe tbody tr th:only-of-type {\n",
       "        vertical-align: middle;\n",
       "    }\n",
       "\n",
       "    .dataframe tbody tr th {\n",
       "        vertical-align: top;\n",
       "    }\n",
       "\n",
       "    .dataframe thead th {\n",
       "        text-align: right;\n",
       "    }\n",
       "</style>\n",
       "<table border=\"1\" class=\"dataframe\">\n",
       "  <thead>\n",
       "    <tr style=\"text-align: right;\">\n",
       "      <th></th>\n",
       "      <th>Int_Rate</th>\n",
       "      <th>Amt_Req</th>\n",
       "      <th>Amt_Fun</th>\n",
       "      <th>Loan_Duration</th>\n",
       "      <th>Loan_Grade</th>\n",
       "      <th>Cust_Exp</th>\n",
       "      <th>Owner_Status</th>\n",
       "      <th>Cust_Income</th>\n",
       "      <th>Loan_Date</th>\n",
       "      <th>Loan_Cat</th>\n",
       "      <th>Cust_State</th>\n",
       "      <th>Debt_Ratio</th>\n",
       "      <th>CustDelin_2Yrs</th>\n",
       "      <th>Cust_ageofcredit</th>\n",
       "      <th>Cust_DerPubRec</th>\n",
       "      <th>Cust_CreditLine</th>\n",
       "      <th>Cust_LoanStatus</th>\n",
       "    </tr>\n",
       "  </thead>\n",
       "  <tbody>\n",
       "    <tr>\n",
       "      <th>0</th>\n",
       "      <td>0.1189</td>\n",
       "      <td>25000.0</td>\n",
       "      <td>25000.0</td>\n",
       "      <td>36 months</td>\n",
       "      <td>B</td>\n",
       "      <td>1</td>\n",
       "      <td>RENT</td>\n",
       "      <td>85000.0</td>\n",
       "      <td>8</td>\n",
       "      <td>debt_consolidation</td>\n",
       "      <td>CA</td>\n",
       "      <td>19.48</td>\n",
       "      <td>0.0</td>\n",
       "      <td>2/1/1994</td>\n",
       "      <td>0.0</td>\n",
       "      <td>42.0</td>\n",
       "      <td>f</td>\n",
       "    </tr>\n",
       "    <tr>\n",
       "      <th>1</th>\n",
       "      <td>0.1071</td>\n",
       "      <td>7000.0</td>\n",
       "      <td>7000.0</td>\n",
       "      <td>36 months</td>\n",
       "      <td>B</td>\n",
       "      <td>1</td>\n",
       "      <td>RENT</td>\n",
       "      <td>65000.0</td>\n",
       "      <td>5</td>\n",
       "      <td>credit_card</td>\n",
       "      <td>NY</td>\n",
       "      <td>14.29</td>\n",
       "      <td>0.0</td>\n",
       "      <td>10/1/2000</td>\n",
       "      <td>0.0</td>\n",
       "      <td>7.0</td>\n",
       "      <td>f</td>\n",
       "    </tr>\n",
       "    <tr>\n",
       "      <th>2</th>\n",
       "      <td>0.1699</td>\n",
       "      <td>25000.0</td>\n",
       "      <td>25000.0</td>\n",
       "      <td>36 months</td>\n",
       "      <td>D</td>\n",
       "      <td>1</td>\n",
       "      <td>RENT</td>\n",
       "      <td>70000.0</td>\n",
       "      <td>8</td>\n",
       "      <td>debt_consolidation</td>\n",
       "      <td>NY</td>\n",
       "      <td>10.50</td>\n",
       "      <td>0.0</td>\n",
       "      <td>6/1/2000</td>\n",
       "      <td>0.0</td>\n",
       "      <td>17.0</td>\n",
       "      <td>f</td>\n",
       "    </tr>\n",
       "    <tr>\n",
       "      <th>3</th>\n",
       "      <td>0.1311</td>\n",
       "      <td>1200.0</td>\n",
       "      <td>1200.0</td>\n",
       "      <td>36 months</td>\n",
       "      <td>C</td>\n",
       "      <td>10</td>\n",
       "      <td>OWN</td>\n",
       "      <td>54000.0</td>\n",
       "      <td>3</td>\n",
       "      <td>debt_consolidation</td>\n",
       "      <td>TX</td>\n",
       "      <td>5.47</td>\n",
       "      <td>0.0</td>\n",
       "      <td>1/1/1985</td>\n",
       "      <td>0.0</td>\n",
       "      <td>31.0</td>\n",
       "      <td>f</td>\n",
       "    </tr>\n",
       "    <tr>\n",
       "      <th>4</th>\n",
       "      <td>0.1357</td>\n",
       "      <td>10800.0</td>\n",
       "      <td>10800.0</td>\n",
       "      <td>36 months</td>\n",
       "      <td>C</td>\n",
       "      <td>6</td>\n",
       "      <td>RENT</td>\n",
       "      <td>32000.0</td>\n",
       "      <td>11</td>\n",
       "      <td>debt_consolidation</td>\n",
       "      <td>CT</td>\n",
       "      <td>11.63</td>\n",
       "      <td>0.0</td>\n",
       "      <td>12/1/1996</td>\n",
       "      <td>0.0</td>\n",
       "      <td>40.0</td>\n",
       "      <td>f</td>\n",
       "    </tr>\n",
       "    <tr>\n",
       "      <th>5</th>\n",
       "      <td>0.1905</td>\n",
       "      <td>7200.0</td>\n",
       "      <td>7200.0</td>\n",
       "      <td>36 months</td>\n",
       "      <td>D</td>\n",
       "      <td>9</td>\n",
       "      <td>RENT</td>\n",
       "      <td>58000.0</td>\n",
       "      <td>8</td>\n",
       "      <td>debt_consolidation</td>\n",
       "      <td>RI</td>\n",
       "      <td>2.05</td>\n",
       "      <td>0.0</td>\n",
       "      <td>4/1/1994</td>\n",
       "      <td>0.0</td>\n",
       "      <td>25.0</td>\n",
       "      <td>f</td>\n",
       "    </tr>\n",
       "    <tr>\n",
       "      <th>6</th>\n",
       "      <td>0.1008</td>\n",
       "      <td>7500.0</td>\n",
       "      <td>5025.0</td>\n",
       "      <td>36 months</td>\n",
       "      <td>B</td>\n",
       "      <td>3</td>\n",
       "      <td>RENT</td>\n",
       "      <td>85000.0</td>\n",
       "      <td>4</td>\n",
       "      <td>debt_consolidation</td>\n",
       "      <td>CA</td>\n",
       "      <td>8.10</td>\n",
       "      <td>0.0</td>\n",
       "      <td>11/1/2000</td>\n",
       "      <td>0.0</td>\n",
       "      <td>11.0</td>\n",
       "      <td>f</td>\n",
       "    </tr>\n",
       "    <tr>\n",
       "      <th>7</th>\n",
       "      <td>0.1426</td>\n",
       "      <td>3000.0</td>\n",
       "      <td>3000.0</td>\n",
       "      <td>36 months</td>\n",
       "      <td>C</td>\n",
       "      <td>3</td>\n",
       "      <td>MORTGAGE</td>\n",
       "      <td>80800.0</td>\n",
       "      <td>9</td>\n",
       "      <td>credit_card</td>\n",
       "      <td>TX</td>\n",
       "      <td>14.97</td>\n",
       "      <td>1.0</td>\n",
       "      <td>7/1/1998</td>\n",
       "      <td>0.0</td>\n",
       "      <td>23.0</td>\n",
       "      <td>f</td>\n",
       "    </tr>\n",
       "    <tr>\n",
       "      <th>8</th>\n",
       "      <td>0.0788</td>\n",
       "      <td>4000.0</td>\n",
       "      <td>4000.0</td>\n",
       "      <td>36 months</td>\n",
       "      <td>A</td>\n",
       "      <td>1</td>\n",
       "      <td>MORTGAGE</td>\n",
       "      <td>148000.0</td>\n",
       "      <td>2</td>\n",
       "      <td>credit_card</td>\n",
       "      <td>TX</td>\n",
       "      <td>16.98</td>\n",
       "      <td>0.0</td>\n",
       "      <td>5/1/1993</td>\n",
       "      <td>0.0</td>\n",
       "      <td>19.0</td>\n",
       "      <td>f</td>\n",
       "    </tr>\n",
       "    <tr>\n",
       "      <th>9</th>\n",
       "      <td>0.1496</td>\n",
       "      <td>5600.0</td>\n",
       "      <td>5600.0</td>\n",
       "      <td>36 months</td>\n",
       "      <td>D</td>\n",
       "      <td>1</td>\n",
       "      <td>RENT</td>\n",
       "      <td>45000.0</td>\n",
       "      <td>2</td>\n",
       "      <td>debt_consolidation</td>\n",
       "      <td>MD</td>\n",
       "      <td>4.00</td>\n",
       "      <td>0.0</td>\n",
       "      <td>6/1/2019</td>\n",
       "      <td>1.0</td>\n",
       "      <td>9.0</td>\n",
       "      <td>f</td>\n",
       "    </tr>\n",
       "  </tbody>\n",
       "</table>\n",
       "</div>"
      ],
      "text/plain": [
       "   Int_Rate  Amt_Req  Amt_Fun Loan_Duration Loan_Grade  Cust_Exp Owner_Status  \\\n",
       "0    0.1189  25000.0  25000.0     36 months          B         1         RENT   \n",
       "1    0.1071   7000.0   7000.0     36 months          B         1         RENT   \n",
       "2    0.1699  25000.0  25000.0     36 months          D         1         RENT   \n",
       "3    0.1311   1200.0   1200.0     36 months          C        10          OWN   \n",
       "4    0.1357  10800.0  10800.0     36 months          C         6         RENT   \n",
       "5    0.1905   7200.0   7200.0     36 months          D         9         RENT   \n",
       "6    0.1008   7500.0   5025.0     36 months          B         3         RENT   \n",
       "7    0.1426   3000.0   3000.0     36 months          C         3     MORTGAGE   \n",
       "8    0.0788   4000.0   4000.0     36 months          A         1     MORTGAGE   \n",
       "9    0.1496   5600.0   5600.0     36 months          D         1         RENT   \n",
       "\n",
       "   Cust_Income  Loan_Date            Loan_Cat Cust_State  Debt_Ratio  \\\n",
       "0      85000.0          8  debt_consolidation         CA       19.48   \n",
       "1      65000.0          5         credit_card         NY       14.29   \n",
       "2      70000.0          8  debt_consolidation         NY       10.50   \n",
       "3      54000.0          3  debt_consolidation         TX        5.47   \n",
       "4      32000.0         11  debt_consolidation         CT       11.63   \n",
       "5      58000.0          8  debt_consolidation         RI        2.05   \n",
       "6      85000.0          4  debt_consolidation         CA        8.10   \n",
       "7      80800.0          9         credit_card         TX       14.97   \n",
       "8     148000.0          2         credit_card         TX       16.98   \n",
       "9      45000.0          2  debt_consolidation         MD        4.00   \n",
       "\n",
       "   CustDelin_2Yrs Cust_ageofcredit  Cust_DerPubRec  Cust_CreditLine  \\\n",
       "0             0.0         2/1/1994             0.0             42.0   \n",
       "1             0.0        10/1/2000             0.0              7.0   \n",
       "2             0.0         6/1/2000             0.0             17.0   \n",
       "3             0.0         1/1/1985             0.0             31.0   \n",
       "4             0.0        12/1/1996             0.0             40.0   \n",
       "5             0.0         4/1/1994             0.0             25.0   \n",
       "6             0.0        11/1/2000             0.0             11.0   \n",
       "7             1.0         7/1/1998             0.0             23.0   \n",
       "8             0.0         5/1/1993             0.0             19.0   \n",
       "9             0.0         6/1/2019             1.0              9.0   \n",
       "\n",
       "  Cust_LoanStatus  \n",
       "0               f  \n",
       "1               f  \n",
       "2               f  \n",
       "3               f  \n",
       "4               f  \n",
       "5               f  \n",
       "6               f  \n",
       "7               f  \n",
       "8               f  \n",
       "9               f  "
      ]
     },
     "execution_count": 16,
     "metadata": {},
     "output_type": "execute_result"
    }
   ],
   "source": [
    "data2.head(10)"
   ]
  },
  {
   "cell_type": "markdown",
   "metadata": {},
   "source": [
    "### Data Transformation: Age of credit\n",
    "Another such variable which needs tranformation is the age of credit for a customer(borrower). I converted the format into more simpler version of years."
   ]
  },
  {
   "cell_type": "code",
   "execution_count": 17,
   "metadata": {},
   "outputs": [],
   "source": [
    "data2.Cust_ageofcredit = pd.to_datetime(data2.Cust_ageofcredit)\n",
    "\n",
    "today = datetime.now().strftime('%Y-%m-%d')\n",
    "data2.Cust_ageofcredit = data2.Cust_ageofcredit.apply(lambda x: (\n",
    "        np.timedelta64((x - pd.Timestamp(today)),'D').astype(int))/-365)"
   ]
  },
  {
   "cell_type": "code",
   "execution_count": 18,
   "metadata": {},
   "outputs": [
    {
     "data": {
      "text/plain": [
       "168777    -0.441096\n",
       "175362    -0.441096\n",
       "119506    -0.441096\n",
       "180837    -0.441096\n",
       "144539    -0.441096\n",
       "158755    -0.441096\n",
       "157263    -0.441096\n",
       "183751    -0.441096\n",
       "175810    -0.441096\n",
       "155635    -0.441096\n",
       "158548    -0.441096\n",
       "164805    -0.441096\n",
       "190040    -0.441096\n",
       "148090    -0.441096\n",
       "144240    -0.441096\n",
       "158554    -0.441096\n",
       "144113    -0.441096\n",
       "146868    -0.441096\n",
       "142130    -0.441096\n",
       "147644    -0.441096\n",
       "131032    -0.441096\n",
       "169166    -0.441096\n",
       "153048    -0.441096\n",
       "182305    -0.441096\n",
       "179353    -0.441096\n",
       "148160    -0.441096\n",
       "130944    -0.441096\n",
       "160918    -0.441096\n",
       "196363    -0.441096\n",
       "151356    -0.441096\n",
       "            ...    \n",
       "105315    57.621918\n",
       "116419    58.536986\n",
       "156991    58.536986\n",
       "128767    58.621918\n",
       "42108     58.704110\n",
       "78039     58.704110\n",
       "87411     58.704110\n",
       "64052     58.789041\n",
       "65695     58.789041\n",
       "118720    59.123288\n",
       "196137    59.123288\n",
       "75408     59.375342\n",
       "111267    59.539726\n",
       "122874    60.624658\n",
       "180915    60.958904\n",
       "121289    61.210959\n",
       "95165     61.791781\n",
       "171091    61.873973\n",
       "150526    62.539726\n",
       "113252    63.542466\n",
       "153760    63.542466\n",
       "185289    64.709589\n",
       "90924     65.709589\n",
       "12983     68.630137\n",
       "65628     68.712329\n",
       "125052    68.797260\n",
       "117164    69.216438\n",
       "165673    70.131507\n",
       "13571     73.547945\n",
       "137707    75.550685\n",
       "Name: Cust_ageofcredit, Length: 196778, dtype: float64"
      ]
     },
     "execution_count": 18,
     "metadata": {},
     "output_type": "execute_result"
    }
   ],
   "source": [
    "data2.Cust_ageofcredit.sort_values()"
   ]
  },
  {
   "cell_type": "markdown",
   "metadata": {},
   "source": [
    "#### Some credit history have values of negative years which cannot be possible. It may be an error in data collection."
   ]
  },
  {
   "cell_type": "code",
   "execution_count": 19,
   "metadata": {},
   "outputs": [
    {
     "data": {
      "text/plain": [
       "Int_Rate                        0.1899\n",
       "Amt_Req                           7800\n",
       "Amt_Fun                           7800\n",
       "Loan_Duration                36 months\n",
       "Loan_Grade                           E\n",
       "Cust_Exp                             5\n",
       "Owner_Status                       OWN\n",
       "Cust_Income                      25000\n",
       "Loan_Date                            7\n",
       "Loan_Cat            debt_consolidation\n",
       "Cust_State                          NJ\n",
       "Debt_Ratio                       12.53\n",
       "CustDelin_2Yrs                       0\n",
       "Cust_ageofcredit             -0.441096\n",
       "Cust_DerPubRec                       0\n",
       "Cust_CreditLine                      8\n",
       "Cust_LoanStatus                      f\n",
       "Name: 175362, dtype: object"
      ]
     },
     "execution_count": 19,
     "metadata": {},
     "output_type": "execute_result"
    }
   ],
   "source": [
    "data2.iloc[175362]"
   ]
  },
  {
   "cell_type": "markdown",
   "metadata": {},
   "source": [
    "#### Converting all the negative values in age of credit into zero"
   ]
  },
  {
   "cell_type": "code",
   "execution_count": 20,
   "metadata": {},
   "outputs": [
    {
     "name": "stderr",
     "output_type": "stream",
     "text": [
      "C:\\Users\\Nirav\\Anaconda3\\lib\\site-packages\\ipykernel_launcher.py:1: SettingWithCopyWarning: \n",
      "A value is trying to be set on a copy of a slice from a DataFrame\n",
      "\n",
      "See the caveats in the documentation: http://pandas.pydata.org/pandas-docs/stable/indexing.html#indexing-view-versus-copy\n",
      "  \"\"\"Entry point for launching an IPython kernel.\n"
     ]
    }
   ],
   "source": [
    "data2.Cust_ageofcredit[data2.Cust_ageofcredit <= 0] = 0"
   ]
  },
  {
   "cell_type": "code",
   "execution_count": 21,
   "metadata": {},
   "outputs": [
    {
     "data": {
      "text/plain": [
       "Int_Rate                        0.1899\n",
       "Amt_Req                           7800\n",
       "Amt_Fun                           7800\n",
       "Loan_Duration                36 months\n",
       "Loan_Grade                           E\n",
       "Cust_Exp                             5\n",
       "Owner_Status                       OWN\n",
       "Cust_Income                      25000\n",
       "Loan_Date                            7\n",
       "Loan_Cat            debt_consolidation\n",
       "Cust_State                          NJ\n",
       "Debt_Ratio                       12.53\n",
       "CustDelin_2Yrs                       0\n",
       "Cust_ageofcredit                     0\n",
       "Cust_DerPubRec                       0\n",
       "Cust_CreditLine                      8\n",
       "Cust_LoanStatus                      f\n",
       "Name: 175362, dtype: object"
      ]
     },
     "execution_count": 21,
     "metadata": {},
     "output_type": "execute_result"
    }
   ],
   "source": [
    "data2.iloc[175362]"
   ]
  },
  {
   "cell_type": "code",
   "execution_count": 22,
   "metadata": {},
   "outputs": [
    {
     "data": {
      "text/plain": [
       "148777     0.000000\n",
       "75184      0.000000\n",
       "173202     0.000000\n",
       "75181      0.000000\n",
       "75178      0.000000\n",
       "75176      0.000000\n",
       "75172      0.000000\n",
       "25051      0.000000\n",
       "173205     0.000000\n",
       "173206     0.000000\n",
       "75153      0.000000\n",
       "173212     0.000000\n",
       "25063      0.000000\n",
       "75149      0.000000\n",
       "25065      0.000000\n",
       "75160      0.000000\n",
       "75147      0.000000\n",
       "75187      0.000000\n",
       "25048      0.000000\n",
       "75253      0.000000\n",
       "25035      0.000000\n",
       "173179     0.000000\n",
       "75242      0.000000\n",
       "173181     0.000000\n",
       "75230      0.000000\n",
       "75188      0.000000\n",
       "75212      0.000000\n",
       "188555     0.000000\n",
       "173193     0.000000\n",
       "188552     0.000000\n",
       "            ...    \n",
       "105315    57.621918\n",
       "116419    58.536986\n",
       "156991    58.536986\n",
       "128767    58.621918\n",
       "42108     58.704110\n",
       "78039     58.704110\n",
       "87411     58.704110\n",
       "64052     58.789041\n",
       "65695     58.789041\n",
       "118720    59.123288\n",
       "196137    59.123288\n",
       "75408     59.375342\n",
       "111267    59.539726\n",
       "122874    60.624658\n",
       "180915    60.958904\n",
       "121289    61.210959\n",
       "95165     61.791781\n",
       "171091    61.873973\n",
       "150526    62.539726\n",
       "113252    63.542466\n",
       "153760    63.542466\n",
       "185289    64.709589\n",
       "90924     65.709589\n",
       "12983     68.630137\n",
       "65628     68.712329\n",
       "125052    68.797260\n",
       "117164    69.216438\n",
       "165673    70.131507\n",
       "13571     73.547945\n",
       "137707    75.550685\n",
       "Name: Cust_ageofcredit, Length: 196778, dtype: float64"
      ]
     },
     "execution_count": 22,
     "metadata": {},
     "output_type": "execute_result"
    }
   ],
   "source": [
    "data2.Cust_ageofcredit.sort_values()"
   ]
  },
  {
   "cell_type": "code",
   "execution_count": 23,
   "metadata": {},
   "outputs": [
    {
     "data": {
      "text/html": [
       "<div>\n",
       "<style scoped>\n",
       "    .dataframe tbody tr th:only-of-type {\n",
       "        vertical-align: middle;\n",
       "    }\n",
       "\n",
       "    .dataframe tbody tr th {\n",
       "        vertical-align: top;\n",
       "    }\n",
       "\n",
       "    .dataframe thead th {\n",
       "        text-align: right;\n",
       "    }\n",
       "</style>\n",
       "<table border=\"1\" class=\"dataframe\">\n",
       "  <thead>\n",
       "    <tr style=\"text-align: right;\">\n",
       "      <th></th>\n",
       "      <th>Int_Rate</th>\n",
       "      <th>Amt_Req</th>\n",
       "      <th>Amt_Fun</th>\n",
       "      <th>Loan_Duration</th>\n",
       "      <th>Loan_Grade</th>\n",
       "      <th>Cust_Exp</th>\n",
       "      <th>Owner_Status</th>\n",
       "      <th>Cust_Income</th>\n",
       "      <th>Loan_Date</th>\n",
       "      <th>Loan_Cat</th>\n",
       "      <th>Cust_State</th>\n",
       "      <th>Debt_Ratio</th>\n",
       "      <th>CustDelin_2Yrs</th>\n",
       "      <th>Cust_ageofcredit</th>\n",
       "      <th>Cust_DerPubRec</th>\n",
       "      <th>Cust_CreditLine</th>\n",
       "      <th>Cust_LoanStatus</th>\n",
       "    </tr>\n",
       "  </thead>\n",
       "  <tbody>\n",
       "    <tr>\n",
       "      <th>0</th>\n",
       "      <td>0.1189</td>\n",
       "      <td>25000.0</td>\n",
       "      <td>25000.0</td>\n",
       "      <td>36 months</td>\n",
       "      <td>B</td>\n",
       "      <td>1</td>\n",
       "      <td>RENT</td>\n",
       "      <td>85000.0</td>\n",
       "      <td>8</td>\n",
       "      <td>debt_consolidation</td>\n",
       "      <td>CA</td>\n",
       "      <td>19.48</td>\n",
       "      <td>0.0</td>\n",
       "      <td>25.430137</td>\n",
       "      <td>0.0</td>\n",
       "      <td>42.0</td>\n",
       "      <td>f</td>\n",
       "    </tr>\n",
       "    <tr>\n",
       "      <th>1</th>\n",
       "      <td>0.1071</td>\n",
       "      <td>7000.0</td>\n",
       "      <td>7000.0</td>\n",
       "      <td>36 months</td>\n",
       "      <td>B</td>\n",
       "      <td>1</td>\n",
       "      <td>RENT</td>\n",
       "      <td>65000.0</td>\n",
       "      <td>5</td>\n",
       "      <td>credit_card</td>\n",
       "      <td>NY</td>\n",
       "      <td>14.29</td>\n",
       "      <td>0.0</td>\n",
       "      <td>18.761644</td>\n",
       "      <td>0.0</td>\n",
       "      <td>7.0</td>\n",
       "      <td>f</td>\n",
       "    </tr>\n",
       "    <tr>\n",
       "      <th>2</th>\n",
       "      <td>0.1699</td>\n",
       "      <td>25000.0</td>\n",
       "      <td>25000.0</td>\n",
       "      <td>36 months</td>\n",
       "      <td>D</td>\n",
       "      <td>1</td>\n",
       "      <td>RENT</td>\n",
       "      <td>70000.0</td>\n",
       "      <td>8</td>\n",
       "      <td>debt_consolidation</td>\n",
       "      <td>NY</td>\n",
       "      <td>10.50</td>\n",
       "      <td>0.0</td>\n",
       "      <td>19.095890</td>\n",
       "      <td>0.0</td>\n",
       "      <td>17.0</td>\n",
       "      <td>f</td>\n",
       "    </tr>\n",
       "    <tr>\n",
       "      <th>3</th>\n",
       "      <td>0.1311</td>\n",
       "      <td>1200.0</td>\n",
       "      <td>1200.0</td>\n",
       "      <td>36 months</td>\n",
       "      <td>C</td>\n",
       "      <td>10</td>\n",
       "      <td>OWN</td>\n",
       "      <td>54000.0</td>\n",
       "      <td>3</td>\n",
       "      <td>debt_consolidation</td>\n",
       "      <td>TX</td>\n",
       "      <td>5.47</td>\n",
       "      <td>0.0</td>\n",
       "      <td>34.520548</td>\n",
       "      <td>0.0</td>\n",
       "      <td>31.0</td>\n",
       "      <td>f</td>\n",
       "    </tr>\n",
       "    <tr>\n",
       "      <th>4</th>\n",
       "      <td>0.1357</td>\n",
       "      <td>10800.0</td>\n",
       "      <td>10800.0</td>\n",
       "      <td>36 months</td>\n",
       "      <td>C</td>\n",
       "      <td>6</td>\n",
       "      <td>RENT</td>\n",
       "      <td>32000.0</td>\n",
       "      <td>11</td>\n",
       "      <td>debt_consolidation</td>\n",
       "      <td>CT</td>\n",
       "      <td>11.63</td>\n",
       "      <td>0.0</td>\n",
       "      <td>22.597260</td>\n",
       "      <td>0.0</td>\n",
       "      <td>40.0</td>\n",
       "      <td>f</td>\n",
       "    </tr>\n",
       "    <tr>\n",
       "      <th>5</th>\n",
       "      <td>0.1905</td>\n",
       "      <td>7200.0</td>\n",
       "      <td>7200.0</td>\n",
       "      <td>36 months</td>\n",
       "      <td>D</td>\n",
       "      <td>9</td>\n",
       "      <td>RENT</td>\n",
       "      <td>58000.0</td>\n",
       "      <td>8</td>\n",
       "      <td>debt_consolidation</td>\n",
       "      <td>RI</td>\n",
       "      <td>2.05</td>\n",
       "      <td>0.0</td>\n",
       "      <td>25.268493</td>\n",
       "      <td>0.0</td>\n",
       "      <td>25.0</td>\n",
       "      <td>f</td>\n",
       "    </tr>\n",
       "    <tr>\n",
       "      <th>6</th>\n",
       "      <td>0.1008</td>\n",
       "      <td>7500.0</td>\n",
       "      <td>5025.0</td>\n",
       "      <td>36 months</td>\n",
       "      <td>B</td>\n",
       "      <td>3</td>\n",
       "      <td>RENT</td>\n",
       "      <td>85000.0</td>\n",
       "      <td>4</td>\n",
       "      <td>debt_consolidation</td>\n",
       "      <td>CA</td>\n",
       "      <td>8.10</td>\n",
       "      <td>0.0</td>\n",
       "      <td>18.676712</td>\n",
       "      <td>0.0</td>\n",
       "      <td>11.0</td>\n",
       "      <td>f</td>\n",
       "    </tr>\n",
       "    <tr>\n",
       "      <th>7</th>\n",
       "      <td>0.1426</td>\n",
       "      <td>3000.0</td>\n",
       "      <td>3000.0</td>\n",
       "      <td>36 months</td>\n",
       "      <td>C</td>\n",
       "      <td>3</td>\n",
       "      <td>MORTGAGE</td>\n",
       "      <td>80800.0</td>\n",
       "      <td>9</td>\n",
       "      <td>credit_card</td>\n",
       "      <td>TX</td>\n",
       "      <td>14.97</td>\n",
       "      <td>1.0</td>\n",
       "      <td>21.016438</td>\n",
       "      <td>0.0</td>\n",
       "      <td>23.0</td>\n",
       "      <td>f</td>\n",
       "    </tr>\n",
       "    <tr>\n",
       "      <th>8</th>\n",
       "      <td>0.0788</td>\n",
       "      <td>4000.0</td>\n",
       "      <td>4000.0</td>\n",
       "      <td>36 months</td>\n",
       "      <td>A</td>\n",
       "      <td>1</td>\n",
       "      <td>MORTGAGE</td>\n",
       "      <td>148000.0</td>\n",
       "      <td>2</td>\n",
       "      <td>credit_card</td>\n",
       "      <td>TX</td>\n",
       "      <td>16.98</td>\n",
       "      <td>0.0</td>\n",
       "      <td>26.186301</td>\n",
       "      <td>0.0</td>\n",
       "      <td>19.0</td>\n",
       "      <td>f</td>\n",
       "    </tr>\n",
       "    <tr>\n",
       "      <th>9</th>\n",
       "      <td>0.1496</td>\n",
       "      <td>5600.0</td>\n",
       "      <td>5600.0</td>\n",
       "      <td>36 months</td>\n",
       "      <td>D</td>\n",
       "      <td>1</td>\n",
       "      <td>RENT</td>\n",
       "      <td>45000.0</td>\n",
       "      <td>2</td>\n",
       "      <td>debt_consolidation</td>\n",
       "      <td>MD</td>\n",
       "      <td>4.00</td>\n",
       "      <td>0.0</td>\n",
       "      <td>0.084932</td>\n",
       "      <td>1.0</td>\n",
       "      <td>9.0</td>\n",
       "      <td>f</td>\n",
       "    </tr>\n",
       "  </tbody>\n",
       "</table>\n",
       "</div>"
      ],
      "text/plain": [
       "   Int_Rate  Amt_Req  Amt_Fun Loan_Duration Loan_Grade  Cust_Exp Owner_Status  \\\n",
       "0    0.1189  25000.0  25000.0     36 months          B         1         RENT   \n",
       "1    0.1071   7000.0   7000.0     36 months          B         1         RENT   \n",
       "2    0.1699  25000.0  25000.0     36 months          D         1         RENT   \n",
       "3    0.1311   1200.0   1200.0     36 months          C        10          OWN   \n",
       "4    0.1357  10800.0  10800.0     36 months          C         6         RENT   \n",
       "5    0.1905   7200.0   7200.0     36 months          D         9         RENT   \n",
       "6    0.1008   7500.0   5025.0     36 months          B         3         RENT   \n",
       "7    0.1426   3000.0   3000.0     36 months          C         3     MORTGAGE   \n",
       "8    0.0788   4000.0   4000.0     36 months          A         1     MORTGAGE   \n",
       "9    0.1496   5600.0   5600.0     36 months          D         1         RENT   \n",
       "\n",
       "   Cust_Income  Loan_Date            Loan_Cat Cust_State  Debt_Ratio  \\\n",
       "0      85000.0          8  debt_consolidation         CA       19.48   \n",
       "1      65000.0          5         credit_card         NY       14.29   \n",
       "2      70000.0          8  debt_consolidation         NY       10.50   \n",
       "3      54000.0          3  debt_consolidation         TX        5.47   \n",
       "4      32000.0         11  debt_consolidation         CT       11.63   \n",
       "5      58000.0          8  debt_consolidation         RI        2.05   \n",
       "6      85000.0          4  debt_consolidation         CA        8.10   \n",
       "7      80800.0          9         credit_card         TX       14.97   \n",
       "8     148000.0          2         credit_card         TX       16.98   \n",
       "9      45000.0          2  debt_consolidation         MD        4.00   \n",
       "\n",
       "   CustDelin_2Yrs  Cust_ageofcredit  Cust_DerPubRec  Cust_CreditLine  \\\n",
       "0             0.0         25.430137             0.0             42.0   \n",
       "1             0.0         18.761644             0.0              7.0   \n",
       "2             0.0         19.095890             0.0             17.0   \n",
       "3             0.0         34.520548             0.0             31.0   \n",
       "4             0.0         22.597260             0.0             40.0   \n",
       "5             0.0         25.268493             0.0             25.0   \n",
       "6             0.0         18.676712             0.0             11.0   \n",
       "7             1.0         21.016438             0.0             23.0   \n",
       "8             0.0         26.186301             0.0             19.0   \n",
       "9             0.0          0.084932             1.0              9.0   \n",
       "\n",
       "  Cust_LoanStatus  \n",
       "0               f  \n",
       "1               f  \n",
       "2               f  \n",
       "3               f  \n",
       "4               f  \n",
       "5               f  \n",
       "6               f  \n",
       "7               f  \n",
       "8               f  \n",
       "9               f  "
      ]
     },
     "execution_count": 23,
     "metadata": {},
     "output_type": "execute_result"
    }
   ],
   "source": [
    "data2.head(10)"
   ]
  },
  {
   "cell_type": "markdown",
   "metadata": {},
   "source": [
    "### Data Cleaning based on any Correlation\n",
    "Before going forward, we want to check if their is any correlation among variables in the dataset. We would like to remove the variables which displays colinearity."
   ]
  },
  {
   "cell_type": "code",
   "execution_count": 24,
   "metadata": {},
   "outputs": [
    {
     "data": {
      "text/plain": [
       "Amt_Fun  Amt_Req    0.998221\n",
       "dtype: float64"
      ]
     },
     "execution_count": 24,
     "metadata": {},
     "output_type": "execute_result"
    }
   ],
   "source": [
    "cor = data2.corr()\n",
    "cor.loc[:,:] = np.tril(cor, k=-1) \n",
    "cor = cor.stack()\n",
    "cor[(cor > 0.55) | (cor < -0.55)]"
   ]
  },
  {
   "cell_type": "markdown",
   "metadata": {},
   "source": [
    "#### As we can see a strong correlation between Amount funded and amount requested, hence we are going to remove amount funded column"
   ]
  },
  {
   "cell_type": "code",
   "execution_count": 25,
   "metadata": {},
   "outputs": [],
   "source": [
    "data3 = data2.drop('Amt_Fun', axis=1)"
   ]
  },
  {
   "cell_type": "code",
   "execution_count": 26,
   "metadata": {},
   "outputs": [
    {
     "data": {
      "text/plain": [
       "(196778, 16)"
      ]
     },
     "execution_count": 26,
     "metadata": {},
     "output_type": "execute_result"
    }
   ],
   "source": [
    "data3.shape"
   ]
  },
  {
   "cell_type": "markdown",
   "metadata": {},
   "source": [
    "### Data Transformation: Interest Rates\n",
    "Converting the range of interest rates from 0 to 1 into 0 to 100 scale."
   ]
  },
  {
   "cell_type": "code",
   "execution_count": 27,
   "metadata": {},
   "outputs": [
    {
     "data": {
      "text/html": [
       "<div>\n",
       "<style scoped>\n",
       "    .dataframe tbody tr th:only-of-type {\n",
       "        vertical-align: middle;\n",
       "    }\n",
       "\n",
       "    .dataframe tbody tr th {\n",
       "        vertical-align: top;\n",
       "    }\n",
       "\n",
       "    .dataframe thead th {\n",
       "        text-align: right;\n",
       "    }\n",
       "</style>\n",
       "<table border=\"1\" class=\"dataframe\">\n",
       "  <thead>\n",
       "    <tr style=\"text-align: right;\">\n",
       "      <th></th>\n",
       "      <th>Int_Rate</th>\n",
       "      <th>Amt_Req</th>\n",
       "      <th>Loan_Duration</th>\n",
       "      <th>Loan_Grade</th>\n",
       "      <th>Cust_Exp</th>\n",
       "      <th>Owner_Status</th>\n",
       "      <th>Cust_Income</th>\n",
       "      <th>Loan_Date</th>\n",
       "      <th>Loan_Cat</th>\n",
       "      <th>Cust_State</th>\n",
       "      <th>Debt_Ratio</th>\n",
       "      <th>CustDelin_2Yrs</th>\n",
       "      <th>Cust_ageofcredit</th>\n",
       "      <th>Cust_DerPubRec</th>\n",
       "      <th>Cust_CreditLine</th>\n",
       "      <th>Cust_LoanStatus</th>\n",
       "    </tr>\n",
       "  </thead>\n",
       "  <tbody>\n",
       "    <tr>\n",
       "      <th>0</th>\n",
       "      <td>11.89</td>\n",
       "      <td>25000.0</td>\n",
       "      <td>36 months</td>\n",
       "      <td>B</td>\n",
       "      <td>1</td>\n",
       "      <td>RENT</td>\n",
       "      <td>85000.0</td>\n",
       "      <td>8</td>\n",
       "      <td>debt_consolidation</td>\n",
       "      <td>CA</td>\n",
       "      <td>19.48</td>\n",
       "      <td>0.0</td>\n",
       "      <td>25.430137</td>\n",
       "      <td>0.0</td>\n",
       "      <td>42.0</td>\n",
       "      <td>f</td>\n",
       "    </tr>\n",
       "    <tr>\n",
       "      <th>1</th>\n",
       "      <td>10.71</td>\n",
       "      <td>7000.0</td>\n",
       "      <td>36 months</td>\n",
       "      <td>B</td>\n",
       "      <td>1</td>\n",
       "      <td>RENT</td>\n",
       "      <td>65000.0</td>\n",
       "      <td>5</td>\n",
       "      <td>credit_card</td>\n",
       "      <td>NY</td>\n",
       "      <td>14.29</td>\n",
       "      <td>0.0</td>\n",
       "      <td>18.761644</td>\n",
       "      <td>0.0</td>\n",
       "      <td>7.0</td>\n",
       "      <td>f</td>\n",
       "    </tr>\n",
       "    <tr>\n",
       "      <th>2</th>\n",
       "      <td>16.99</td>\n",
       "      <td>25000.0</td>\n",
       "      <td>36 months</td>\n",
       "      <td>D</td>\n",
       "      <td>1</td>\n",
       "      <td>RENT</td>\n",
       "      <td>70000.0</td>\n",
       "      <td>8</td>\n",
       "      <td>debt_consolidation</td>\n",
       "      <td>NY</td>\n",
       "      <td>10.50</td>\n",
       "      <td>0.0</td>\n",
       "      <td>19.095890</td>\n",
       "      <td>0.0</td>\n",
       "      <td>17.0</td>\n",
       "      <td>f</td>\n",
       "    </tr>\n",
       "    <tr>\n",
       "      <th>3</th>\n",
       "      <td>13.11</td>\n",
       "      <td>1200.0</td>\n",
       "      <td>36 months</td>\n",
       "      <td>C</td>\n",
       "      <td>10</td>\n",
       "      <td>OWN</td>\n",
       "      <td>54000.0</td>\n",
       "      <td>3</td>\n",
       "      <td>debt_consolidation</td>\n",
       "      <td>TX</td>\n",
       "      <td>5.47</td>\n",
       "      <td>0.0</td>\n",
       "      <td>34.520548</td>\n",
       "      <td>0.0</td>\n",
       "      <td>31.0</td>\n",
       "      <td>f</td>\n",
       "    </tr>\n",
       "    <tr>\n",
       "      <th>4</th>\n",
       "      <td>13.57</td>\n",
       "      <td>10800.0</td>\n",
       "      <td>36 months</td>\n",
       "      <td>C</td>\n",
       "      <td>6</td>\n",
       "      <td>RENT</td>\n",
       "      <td>32000.0</td>\n",
       "      <td>11</td>\n",
       "      <td>debt_consolidation</td>\n",
       "      <td>CT</td>\n",
       "      <td>11.63</td>\n",
       "      <td>0.0</td>\n",
       "      <td>22.597260</td>\n",
       "      <td>0.0</td>\n",
       "      <td>40.0</td>\n",
       "      <td>f</td>\n",
       "    </tr>\n",
       "  </tbody>\n",
       "</table>\n",
       "</div>"
      ],
      "text/plain": [
       "   Int_Rate  Amt_Req Loan_Duration Loan_Grade  Cust_Exp Owner_Status  \\\n",
       "0     11.89  25000.0     36 months          B         1         RENT   \n",
       "1     10.71   7000.0     36 months          B         1         RENT   \n",
       "2     16.99  25000.0     36 months          D         1         RENT   \n",
       "3     13.11   1200.0     36 months          C        10          OWN   \n",
       "4     13.57  10800.0     36 months          C         6         RENT   \n",
       "\n",
       "   Cust_Income  Loan_Date            Loan_Cat Cust_State  Debt_Ratio  \\\n",
       "0      85000.0          8  debt_consolidation         CA       19.48   \n",
       "1      65000.0          5         credit_card         NY       14.29   \n",
       "2      70000.0          8  debt_consolidation         NY       10.50   \n",
       "3      54000.0          3  debt_consolidation         TX        5.47   \n",
       "4      32000.0         11  debt_consolidation         CT       11.63   \n",
       "\n",
       "   CustDelin_2Yrs  Cust_ageofcredit  Cust_DerPubRec  Cust_CreditLine  \\\n",
       "0             0.0         25.430137             0.0             42.0   \n",
       "1             0.0         18.761644             0.0              7.0   \n",
       "2             0.0         19.095890             0.0             17.0   \n",
       "3             0.0         34.520548             0.0             31.0   \n",
       "4             0.0         22.597260             0.0             40.0   \n",
       "\n",
       "  Cust_LoanStatus  \n",
       "0               f  \n",
       "1               f  \n",
       "2               f  \n",
       "3               f  \n",
       "4               f  "
      ]
     },
     "execution_count": 27,
     "metadata": {},
     "output_type": "execute_result"
    }
   ],
   "source": [
    "data3.iloc[:,0] *= 100\n",
    "data3.head()"
   ]
  },
  {
   "cell_type": "markdown",
   "metadata": {},
   "source": [
    "### Data Exploration\n",
    "We have cleaned and transformed the data as required. Now let us look at the distributions of variables. A quicker way to see distribution of all the variables that are float or integers is to make histograms using hist function."
   ]
  },
  {
   "cell_type": "code",
   "execution_count": 28,
   "metadata": {},
   "outputs": [
    {
     "data": {
      "image/png": "[encoded data removed]",
      "text/plain": [
       "<Figure size 1440x1080 with 12 Axes>"
      ]
     },
     "metadata": {},
     "output_type": "display_data"
    }
   ],
   "source": [
    "data3.hist(figsize=(20,15))\n",
    "plt.show()"
   ]
  },
  {
   "cell_type": "markdown",
   "metadata": {},
   "source": [
    "From the above plots, we can infer that certain variables are completely skewed and can be removed from further analysis. Such variables are CustDelin_2yrs and Cust_DerPubRec. Also this variables won't provide any information in determining the loan interest rates and can be dropped from final analysis. Also, Cust_Exp is not very useful features to determine if a person will get lower or higher interest rates hence we can drop this variable as well. \n",
    "\n",
    "Amt_Req tends to fall into nearly normal distribution pattern. It can be visualized in different plot as shown further below. Cust_CreditLine is rightly-skewed. Cust_Income histogram does not provide any useful information and can be visualized in better format as shown later. Cust_ageofcredit is an interesting plot, as it shows that none of the obervations fall into the range of around 8 to 14 years of age of credit. Debt_Ratio and Int_Rate follows normal distribution pattern. Loan_Date histogram is also visualized further below."
   ]
  },
  {
   "cell_type": "markdown",
   "metadata": {},
   "source": [
    "### Data Exploration: Amount of Loan Required\n",
    "Required loan amount have a normal-like distribution but is right-skewed distribution."
   ]
  },
  {
   "cell_type": "code",
   "execution_count": 29,
   "metadata": {},
   "outputs": [
    {
     "data": {
      "image/png": "[encoded data removed]",
      "text/plain": [
       "<Figure size 432x288 with 1 Axes>"
      ]
     },
     "metadata": {},
     "output_type": "display_data"
    }
   ],
   "source": [
    "range = (0, 40000) \n",
    "bins = 100 \n",
    "plt.hist(data3.Amt_Req, bins, range, color = 'green', \n",
    "        histtype = 'bar', rwidth = 0.5) \n",
    "plt.show()"
   ]
  },
  {
   "cell_type": "markdown",
   "metadata": {},
   "source": [
    "### Data Exploration: Credit line of Customer\n",
    "Customer Credt line have a rightly-skewed distribution."
   ]
  },
  {
   "cell_type": "code",
   "execution_count": 30,
   "metadata": {},
   "outputs": [
    {
     "data": {
      "image/png": "[encoded data removed]",
      "text/plain": [
       "<Figure size 432x288 with 1 Axes>"
      ]
     },
     "metadata": {},
     "output_type": "display_data"
    }
   ],
   "source": [
    "range = (0, 100) \n",
    "bins = 50 \n",
    "plt.hist(data3.Cust_CreditLine, bins, range, color = 'orange', \n",
    "        histtype = 'bar', rwidth = 0.5) \n",
    "plt.show()"
   ]
  },
  {
   "cell_type": "markdown",
   "metadata": {},
   "source": [
    "### Data Exploration: Income\n",
    "Customer Income have a rightly-skewed distribution."
   ]
  },
  {
   "cell_type": "code",
   "execution_count": 31,
   "metadata": {},
   "outputs": [
    {
     "data": {
      "image/png": "[encoded data removed]",
      "text/plain": [
       "<Figure size 432x288 with 1 Axes>"
      ]
     },
     "metadata": {},
     "output_type": "display_data"
    }
   ],
   "source": [
    "range = (1000, 800000) \n",
    "bins = 100\n",
    "plt.hist(data3.Cust_Income, bins, range, color = 'blue', \n",
    "        histtype = 'bar', rwidth = 0.4) \n",
    "plt.show()"
   ]
  },
  {
   "cell_type": "markdown",
   "metadata": {},
   "source": [
    "### Data Exploration: Interest Rates\n",
    "Interest Rate have a normal-like distribution."
   ]
  },
  {
   "cell_type": "code",
   "execution_count": 32,
   "metadata": {},
   "outputs": [
    {
     "data": {
      "image/png": "[encoded data removed]",
      "text/plain": [
       "<Figure size 432x288 with 1 Axes>"
      ]
     },
     "metadata": {},
     "output_type": "display_data"
    }
   ],
   "source": [
    "y = data3.Int_Rate\n",
    "np.unique(y), pd.Series(y).plot(kind='hist',alpha=.7, bins=20, title='Interest Rate Distribution')\n",
    "plt.show()"
   ]
  },
  {
   "cell_type": "markdown",
   "metadata": {},
   "source": [
    "### Data Exploration: Loan Date\n",
    "Loans given in each month(Loan_Date). It is normally distributed with highest numbers of loans given in the month of July."
   ]
  },
  {
   "cell_type": "code",
   "execution_count": 33,
   "metadata": {},
   "outputs": [
    {
     "data": {
      "text/plain": [
       "<matplotlib.axes._subplots.AxesSubplot at 0x1cd2a5e5ef0>"
      ]
     },
     "execution_count": 33,
     "metadata": {},
     "output_type": "execute_result"
    },
    {
     "data": {
      "image/png": "[encoded data removed]",
      "text/plain": [
       "<Figure size 432x288 with 1 Axes>"
      ]
     },
     "metadata": {},
     "output_type": "display_data"
    }
   ],
   "source": [
    "data3.Loan_Date.value_counts().sort_index().plot(kind='bar')"
   ]
  },
  {
   "cell_type": "markdown",
   "metadata": {},
   "source": [
    "### Data Exploration: Box Plots\n",
    "Another way to see the distribution in the variables which are float or integers, is to make boxplots using plot function with 'box' type. There are outliers in some of variables. In ideal scenario, we want to get rid of the outliers before we proceed further with the model. As the outliers tend to make the model bias. But for the purpose of this exercise, we will keep outlier as it is and proceed further with making the model."
   ]
  },
  {
   "cell_type": "code",
   "execution_count": 34,
   "metadata": {},
   "outputs": [
    {
     "data": {
      "image/png": "[encoded data removed]",
      "text/plain": [
       "<Figure size 1080x864 with 12 Axes>"
      ]
     },
     "metadata": {},
     "output_type": "display_data"
    }
   ],
   "source": [
    "data3.plot(kind='box', subplots=True, layout=(4,3), figsize=(15, 12), sharex=False, sharey=False)\n",
    "plt.show()"
   ]
  },
  {
   "cell_type": "markdown",
   "metadata": {},
   "source": [
    "### Data Exploration: Categorical and Non-Integer Variables"
   ]
  },
  {
   "cell_type": "markdown",
   "metadata": {},
   "source": [
    "### Data Exploration: Duration of Loan\n",
    "We will keep this variable."
   ]
  },
  {
   "cell_type": "code",
   "execution_count": 35,
   "metadata": {},
   "outputs": [
    {
     "data": {
      "text/plain": [
       "<matplotlib.axes._subplots.AxesSubplot at 0x1cd2a71a4e0>"
      ]
     },
     "execution_count": 35,
     "metadata": {},
     "output_type": "execute_result"
    },
    {
     "data": {
      "image/png": "[encoded data removed]",
      "text/plain": [
       "<Figure size 432x288 with 1 Axes>"
      ]
     },
     "metadata": {},
     "output_type": "display_data"
    }
   ],
   "source": [
    "sns.countplot(data3['Loan_Duration'])"
   ]
  },
  {
   "cell_type": "markdown",
   "metadata": {},
   "source": [
    "### Data Exploration: Grade of Loan\n",
    "Grade of loan classified in descending order"
   ]
  },
  {
   "cell_type": "code",
   "execution_count": 36,
   "metadata": {},
   "outputs": [
    {
     "data": {
      "image/png": "[encoded data removed]",
      "text/plain": [
       "<Figure size 720x360 with 1 Axes>"
      ]
     },
     "metadata": {},
     "output_type": "display_data"
    }
   ],
   "source": [
    "descending_order = data3[\"Loan_Grade\"].value_counts().sort_values(ascending=False).index\n",
    "from seaborn import set\n",
    "set(font_scale=1.3)\n",
    "figure(figsize=(10,5))\n",
    "countplot(data=data3,x=\"Loan_Grade\", order=descending_order)\n",
    "show()"
   ]
  },
  {
   "cell_type": "markdown",
   "metadata": {},
   "source": [
    "### Data Exploration: Ownership status\n",
    "Status of ownership classified in descending order"
   ]
  },
  {
   "cell_type": "code",
   "execution_count": 37,
   "metadata": {},
   "outputs": [
    {
     "data": {
      "image/png": "[encoded data removed]",
      "text/plain": [
       "<Figure size 576x360 with 1 Axes>"
      ]
     },
     "metadata": {},
     "output_type": "display_data"
    }
   ],
   "source": [
    "descending_order = data3[\"Owner_Status\"].value_counts().sort_values(ascending=False).index\n",
    "from seaborn import set\n",
    "set(font_scale=1.2)\n",
    "figure(figsize=(8,5))\n",
    "countplot(data=data3,x=\"Owner_Status\", order=descending_order)\n",
    "show()"
   ]
  },
  {
   "cell_type": "markdown",
   "metadata": {},
   "source": [
    "### Data Exploration: Category of Loan\n",
    "Grade of loan classified in descending order. This variable cannot provide any information on interest rate of loans and \n",
    "hence we will drop this variable."
   ]
  },
  {
   "cell_type": "code",
   "execution_count": 38,
   "metadata": {},
   "outputs": [
    {
     "data": {
      "image/png": "[encoded data removed]",
      "text/plain": [
       "<Figure size 1800x504 with 1 Axes>"
      ]
     },
     "metadata": {},
     "output_type": "display_data"
    }
   ],
   "source": [
    "descending_order = data3[\"Loan_Cat\"].value_counts().sort_values(ascending=False).index\n",
    "from seaborn import set\n",
    "set(font_scale=1.25)\n",
    "figure(figsize=(25,7))\n",
    "countplot(data=data3,x=\"Loan_Cat\", order=descending_order)\n",
    "show()"
   ]
  },
  {
   "cell_type": "markdown",
   "metadata": {},
   "source": [
    "### Data Exploration: State of Customer\n",
    "State of the customer classified in descending order. This variable can provide us demographics about customer but doesn't \n",
    "provide any insight into interest rate of loan for the customer. Hence we wukk drop this variable."
   ]
  },
  {
   "cell_type": "code",
   "execution_count": 39,
   "metadata": {},
   "outputs": [
    {
     "data": {
      "image/png": "[encoded data removed]",
      "text/plain": [
       "<Figure size 1800x504 with 1 Axes>"
      ]
     },
     "metadata": {},
     "output_type": "display_data"
    }
   ],
   "source": [
    "descending_order = data3[\"Cust_State\"].value_counts().sort_values(ascending=False).index\n",
    "from seaborn import set\n",
    "set(font_scale=1.4)\n",
    "figure(figsize=(25,7))\n",
    "countplot(data=data3,x=\"Cust_State\", order=descending_order)\n",
    "show()"
   ]
  },
  {
   "cell_type": "markdown",
   "metadata": {},
   "source": [
    "### Data Exploration: Loan Status\n",
    "Loan status of the customer.This variable doesn't provide any useful information hence we will drop it."
   ]
  },
  {
   "cell_type": "code",
   "execution_count": 40,
   "metadata": {},
   "outputs": [
    {
     "data": {
      "image/png": "[encoded data removed]",
      "text/plain": [
       "<Figure size 288x360 with 1 Axes>"
      ]
     },
     "metadata": {},
     "output_type": "display_data"
    }
   ],
   "source": [
    "descending_order = data3[\"Cust_LoanStatus\"].value_counts().sort_values(ascending=False).index\n",
    "from seaborn import set\n",
    "set(font_scale=1.7)\n",
    "figure(figsize=(4,5))\n",
    "countplot(data=data3,x=\"Cust_LoanStatus\", order=descending_order)\n",
    "show()"
   ]
  },
  {
   "cell_type": "markdown",
   "metadata": {},
   "source": [
    "#### Removing all the columns based on data exploration."
   ]
  },
  {
   "cell_type": "code",
   "execution_count": 41,
   "metadata": {},
   "outputs": [],
   "source": [
    "data4 = data3.drop(['Cust_State', 'Cust_LoanStatus','Cust_Exp','CustDelin_2Yrs','Cust_DerPubRec','Loan_Cat'], axis=1)"
   ]
  },
  {
   "cell_type": "markdown",
   "metadata": {},
   "source": [
    "### Generating dummy variables for categorical variables."
   ]
  },
  {
   "cell_type": "code",
   "execution_count": 42,
   "metadata": {},
   "outputs": [
    {
     "data": {
      "text/html": [
       "<div>\n",
       "<style scoped>\n",
       "    .dataframe tbody tr th:only-of-type {\n",
       "        vertical-align: middle;\n",
       "    }\n",
       "\n",
       "    .dataframe tbody tr th {\n",
       "        vertical-align: top;\n",
       "    }\n",
       "\n",
       "    .dataframe thead th {\n",
       "        text-align: right;\n",
       "    }\n",
       "</style>\n",
       "<table border=\"1\" class=\"dataframe\">\n",
       "  <thead>\n",
       "    <tr style=\"text-align: right;\">\n",
       "      <th></th>\n",
       "      <th>Int_Rate</th>\n",
       "      <th>Amt_Req</th>\n",
       "      <th>Cust_Income</th>\n",
       "      <th>Loan_Date</th>\n",
       "      <th>Debt_Ratio</th>\n",
       "      <th>Cust_ageofcredit</th>\n",
       "      <th>Cust_CreditLine</th>\n",
       "      <th>Loan_Duration_ 36 months</th>\n",
       "      <th>Loan_Duration_ 60 months</th>\n",
       "      <th>Loan_Grade_A</th>\n",
       "      <th>...</th>\n",
       "      <th>Loan_Grade_D</th>\n",
       "      <th>Loan_Grade_E</th>\n",
       "      <th>Loan_Grade_F</th>\n",
       "      <th>Loan_Grade_G</th>\n",
       "      <th>Owner_Status_ANY</th>\n",
       "      <th>Owner_Status_MORTGAGE</th>\n",
       "      <th>Owner_Status_NONE</th>\n",
       "      <th>Owner_Status_OTHER</th>\n",
       "      <th>Owner_Status_OWN</th>\n",
       "      <th>Owner_Status_RENT</th>\n",
       "    </tr>\n",
       "  </thead>\n",
       "  <tbody>\n",
       "    <tr>\n",
       "      <th>0</th>\n",
       "      <td>11.89</td>\n",
       "      <td>25000.0</td>\n",
       "      <td>85000.0</td>\n",
       "      <td>8</td>\n",
       "      <td>19.48</td>\n",
       "      <td>25.430137</td>\n",
       "      <td>42.0</td>\n",
       "      <td>1</td>\n",
       "      <td>0</td>\n",
       "      <td>0</td>\n",
       "      <td>...</td>\n",
       "      <td>0</td>\n",
       "      <td>0</td>\n",
       "      <td>0</td>\n",
       "      <td>0</td>\n",
       "      <td>0</td>\n",
       "      <td>0</td>\n",
       "      <td>0</td>\n",
       "      <td>0</td>\n",
       "      <td>0</td>\n",
       "      <td>1</td>\n",
       "    </tr>\n",
       "    <tr>\n",
       "      <th>1</th>\n",
       "      <td>10.71</td>\n",
       "      <td>7000.0</td>\n",
       "      <td>65000.0</td>\n",
       "      <td>5</td>\n",
       "      <td>14.29</td>\n",
       "      <td>18.761644</td>\n",
       "      <td>7.0</td>\n",
       "      <td>1</td>\n",
       "      <td>0</td>\n",
       "      <td>0</td>\n",
       "      <td>...</td>\n",
       "      <td>0</td>\n",
       "      <td>0</td>\n",
       "      <td>0</td>\n",
       "      <td>0</td>\n",
       "      <td>0</td>\n",
       "      <td>0</td>\n",
       "      <td>0</td>\n",
       "      <td>0</td>\n",
       "      <td>0</td>\n",
       "      <td>1</td>\n",
       "    </tr>\n",
       "    <tr>\n",
       "      <th>2</th>\n",
       "      <td>16.99</td>\n",
       "      <td>25000.0</td>\n",
       "      <td>70000.0</td>\n",
       "      <td>8</td>\n",
       "      <td>10.50</td>\n",
       "      <td>19.095890</td>\n",
       "      <td>17.0</td>\n",
       "      <td>1</td>\n",
       "      <td>0</td>\n",
       "      <td>0</td>\n",
       "      <td>...</td>\n",
       "      <td>1</td>\n",
       "      <td>0</td>\n",
       "      <td>0</td>\n",
       "      <td>0</td>\n",
       "      <td>0</td>\n",
       "      <td>0</td>\n",
       "      <td>0</td>\n",
       "      <td>0</td>\n",
       "      <td>0</td>\n",
       "      <td>1</td>\n",
       "    </tr>\n",
       "    <tr>\n",
       "      <th>3</th>\n",
       "      <td>13.11</td>\n",
       "      <td>1200.0</td>\n",
       "      <td>54000.0</td>\n",
       "      <td>3</td>\n",
       "      <td>5.47</td>\n",
       "      <td>34.520548</td>\n",
       "      <td>31.0</td>\n",
       "      <td>1</td>\n",
       "      <td>0</td>\n",
       "      <td>0</td>\n",
       "      <td>...</td>\n",
       "      <td>0</td>\n",
       "      <td>0</td>\n",
       "      <td>0</td>\n",
       "      <td>0</td>\n",
       "      <td>0</td>\n",
       "      <td>0</td>\n",
       "      <td>0</td>\n",
       "      <td>0</td>\n",
       "      <td>1</td>\n",
       "      <td>0</td>\n",
       "    </tr>\n",
       "    <tr>\n",
       "      <th>4</th>\n",
       "      <td>13.57</td>\n",
       "      <td>10800.0</td>\n",
       "      <td>32000.0</td>\n",
       "      <td>11</td>\n",
       "      <td>11.63</td>\n",
       "      <td>22.597260</td>\n",
       "      <td>40.0</td>\n",
       "      <td>1</td>\n",
       "      <td>0</td>\n",
       "      <td>0</td>\n",
       "      <td>...</td>\n",
       "      <td>0</td>\n",
       "      <td>0</td>\n",
       "      <td>0</td>\n",
       "      <td>0</td>\n",
       "      <td>0</td>\n",
       "      <td>0</td>\n",
       "      <td>0</td>\n",
       "      <td>0</td>\n",
       "      <td>0</td>\n",
       "      <td>1</td>\n",
       "    </tr>\n",
       "  </tbody>\n",
       "</table>\n",
       "<p>5 rows × 22 columns</p>\n",
       "</div>"
      ],
      "text/plain": [
       "   Int_Rate  Amt_Req  Cust_Income  Loan_Date  Debt_Ratio  Cust_ageofcredit  \\\n",
       "0     11.89  25000.0      85000.0          8       19.48         25.430137   \n",
       "1     10.71   7000.0      65000.0          5       14.29         18.761644   \n",
       "2     16.99  25000.0      70000.0          8       10.50         19.095890   \n",
       "3     13.11   1200.0      54000.0          3        5.47         34.520548   \n",
       "4     13.57  10800.0      32000.0         11       11.63         22.597260   \n",
       "\n",
       "   Cust_CreditLine  Loan_Duration_ 36 months  Loan_Duration_ 60 months  \\\n",
       "0             42.0                         1                         0   \n",
       "1              7.0                         1                         0   \n",
       "2             17.0                         1                         0   \n",
       "3             31.0                         1                         0   \n",
       "4             40.0                         1                         0   \n",
       "\n",
       "   Loan_Grade_A        ...          Loan_Grade_D  Loan_Grade_E  Loan_Grade_F  \\\n",
       "0             0        ...                     0             0             0   \n",
       "1             0        ...                     0             0             0   \n",
       "2             0        ...                     1             0             0   \n",
       "3             0        ...                     0             0             0   \n",
       "4             0        ...                     0             0             0   \n",
       "\n",
       "   Loan_Grade_G  Owner_Status_ANY  Owner_Status_MORTGAGE  Owner_Status_NONE  \\\n",
       "0             0                 0                      0                  0   \n",
       "1             0                 0                      0                  0   \n",
       "2             0                 0                      0                  0   \n",
       "3             0                 0                      0                  0   \n",
       "4             0                 0                      0                  0   \n",
       "\n",
       "   Owner_Status_OTHER  Owner_Status_OWN  Owner_Status_RENT  \n",
       "0                   0                 0                  1  \n",
       "1                   0                 0                  1  \n",
       "2                   0                 0                  1  \n",
       "3                   0                 1                  0  \n",
       "4                   0                 0                  1  \n",
       "\n",
       "[5 rows x 22 columns]"
      ]
     },
     "execution_count": 42,
     "metadata": {},
     "output_type": "execute_result"
    }
   ],
   "source": [
    "final = pd.get_dummies(data4)\n",
    "final.head()"
   ]
  },
  {
   "cell_type": "markdown",
   "metadata": {},
   "source": [
    "# 2) Building and Running Machine Learning model\n",
    "## Feature Scaling and Train Test Split of the Original Data\n",
    "### When all the variables are not in the same scale, it is often the case that the model doesnt learn well from these features. Hence we need to ensure that all the variables are in the same scale. In our case we use the min max scaling method in which all variables are adjusted in such a way that they are between 0 and 1."
   ]
  },
  {
   "cell_type": "code",
   "execution_count": 43,
   "metadata": {},
   "outputs": [],
   "source": [
    "### Train Test Split of Original Data ###########################\n",
    "\n",
    "X = final.drop(['Int_Rate'],axis=1)\n",
    "Y = final['Int_Rate']\n",
    "\n",
    "from sklearn.model_selection import train_test_split\n",
    "X_train_org,X_test_org,Y_train,Y_test = train_test_split(X,Y,test_size=0.2,random_state =20)\n",
    "\n",
    "#################################### Feature Scaling ###########################################\n",
    "\n",
    "#When all the variables are not in the same scale, it is often the case that the model doesnt \n",
    "#learn well from these features.\n",
    "#Hence we need to ensure that all the variables are in the same scale. \n",
    "#In our case we use the standardized scaling method in which all variables are adjusted in \n",
    "#a way that they have unit variance. \n",
    "\n",
    "from sklearn.preprocessing import MinMaxScaler\n",
    "sc = MinMaxScaler()\n",
    "X_train = sc.fit_transform(X_train_org)\n",
    "X_test = sc.transform(X_test_org) "
   ]
  },
  {
   "cell_type": "markdown",
   "metadata": {},
   "source": [
    "## Linear Regression Analysis"
   ]
  },
  {
   "cell_type": "code",
   "execution_count": 44,
   "metadata": {},
   "outputs": [
    {
     "name": "stdout",
     "output_type": "stream",
     "text": [
      "Training Score 0.91837656\n",
      "Test Score 0.91789549\n",
      "Train Cross Validation Score -1080716198792682496.00000000\n",
      "Test Cross Validation Score 0.91776123\n"
     ]
    },
    {
     "data": {
      "image/png": "[encoded data removed]",
      "text/plain": [
       "<Figure size 432x288 with 1 Axes>"
      ]
     },
     "metadata": {},
     "output_type": "display_data"
    }
   ],
   "source": [
    "from sklearn.linear_model import LinearRegression\n",
    "from sklearn.metrics import mean_squared_error\n",
    "from math import sqrt\n",
    "\n",
    "linreg_regr = LinearRegression()\n",
    "fitted = linreg_regr.fit(X_train,Y_train)\n",
    "y_pred_linreg = fitted.predict(X_test)\n",
    "print('Training Score {:.8f}'.format(fitted.score(X_train,Y_train)))\n",
    "print('Test Score {:.8f}'.format(fitted.score(X_test,Y_test)))\n",
    "\n",
    "rmse_linreg = sqrt(mean_squared_error(Y_test, y_pred_linreg))\n",
    "\n",
    "from sklearn.model_selection import cross_val_score\n",
    "scores_linreg_train = cross_val_score(linreg_regr,X_train,Y_train,cv=5)\n",
    "scores_linreg_test = cross_val_score(linreg_regr,X_test,Y_test,cv=5)\n",
    "print('Train Cross Validation Score {:.8f}'.format(np.mean(scores_linreg_train)))\n",
    "print('Test Cross Validation Score {:.8f}'.format(np.mean(scores_linreg_test)))\n",
    "\n",
    "\n",
    "import matplotlib.pyplot as plt\n",
    "\n",
    "plt.figure()\n",
    "plt.xlabel('Y Actual')\n",
    "plt.ylabel('Y Predicted')\n",
    "plt.scatter(Y_test,y_pred_linreg,color=['red','green'])\n",
    "plt.show()\n"
   ]
  },
  {
   "cell_type": "markdown",
   "metadata": {},
   "source": [
    "## Ridge Regression with Cross Validation and Grid Search(alpha param)"
   ]
  },
  {
   "cell_type": "code",
   "execution_count": 45,
   "metadata": {},
   "outputs": [
    {
     "name": "stdout",
     "output_type": "stream",
     "text": [
      "Training Score 0.91837683\n",
      "Test Score 0.91789688\n",
      "Best parameters{'alpha': 1}\n",
      "Best score 0.91834985\n"
     ]
    },
    {
     "data": {
      "image/png": "[encoded data removed]",
      "text/plain": [
       "<Figure size 432x288 with 1 Axes>"
      ]
     },
     "metadata": {},
     "output_type": "display_data"
    }
   ],
   "source": [
    "\n",
    "from sklearn.linear_model import Ridge\n",
    "ridge_regr = Ridge()\n",
    "ridge_regr.fit(X_train,Y_train)\n",
    "print('Training Score {:.8f}'.format(ridge_regr.score(X_train,Y_train)))\n",
    "print('Test Score {:.8f}'.format(ridge_regr.score(X_test,Y_test)))\n",
    "\n",
    "\n",
    "from sklearn.model_selection import GridSearchCV\n",
    "ridge_cv = Ridge()\n",
    "param_grid = {'alpha': [0.01,1,5,10,100,2000]}\n",
    "grid_search = GridSearchCV(ridge_cv,param_grid,cv=5)\n",
    "grid_search.fit(X_train,Y_train)\n",
    "              \n",
    "y_pred_ridge = grid_search.predict(X_test)\n",
    "\n",
    "print('Best parameters{}'.format(grid_search.best_params_))\n",
    "print('Best score {:.8f}'.format(grid_search.best_score_))  \n",
    "\n",
    "rmse_ridge = sqrt(mean_squared_error(Y_test,y_pred_ridge))\n",
    "\n",
    "\n",
    "import matplotlib.pyplot as plt\n",
    "\n",
    "plt.figure()\n",
    "plt.xlabel('Y Actual')\n",
    "plt.ylabel('Y Predicted')\n",
    "plt.scatter(Y_test,y_pred_ridge,color=['red','green'])\n",
    "plt.show()"
   ]
  },
  {
   "cell_type": "markdown",
   "metadata": {},
   "source": [
    "## Lasso Regression with Cross Validation and Grid Search(alpha param)\n"
   ]
  },
  {
   "cell_type": "code",
   "execution_count": 46,
   "metadata": {},
   "outputs": [
    {
     "name": "stdout",
     "output_type": "stream",
     "text": [
      "Training Score 0.01326829\n",
      "Test Score 0.01326802\n",
      "Best parameters{'alpha': 1}\n",
      "Best Score 0.01320903\n"
     ]
    },
    {
     "data": {
      "image/png": "[encoded data removed]",
      "text/plain": [
       "<Figure size 432x288 with 1 Axes>"
      ]
     },
     "metadata": {},
     "output_type": "display_data"
    }
   ],
   "source": [
    "from sklearn.linear_model import Lasso\n",
    "lasso_regr = Lasso(max_iter = 100000)\n",
    "lasso_regr.fit(X_train,Y_train)\n",
    "print('Training Score {:.8f}'.format(lasso_regr.score(X_train,Y_train)))\n",
    "print('Test Score {:.8f}'.format(lasso_regr.score(X_test,Y_test)))\n",
    "\n",
    "\n",
    "from sklearn.model_selection import GridSearchCV\n",
    "lasso_cv = Lasso(max_iter = 100000)\n",
    "param_grid = {'alpha':[1,5,10,20,100,2000]}\n",
    "grid_search_ls = GridSearchCV(lasso_cv,param_grid,cv = 5)\n",
    "grid_search_ls.fit(X_train,Y_train)  \n",
    "            \n",
    "y_pred_lasso = grid_search_ls.predict(X_test)              \n",
    "\n",
    "print('Best parameters{}'.format(grid_search_ls.best_params_))\n",
    "print('Best Score {:.8f}'.format(grid_search_ls.best_score_))\n",
    "\n",
    "rmse_lasso = sqrt(mean_squared_error(Y_test,y_pred_lasso))\n",
    "\n",
    "         \n",
    "\n",
    "\n",
    "import matplotlib.pyplot as plt\n",
    "\n",
    "plt.figure()\n",
    "plt.xlabel('Y Actual')\n",
    "plt.ylabel('Y Predicted')\n",
    "plt.scatter(Y_test,y_pred_lasso,color=['red','green'])\n",
    "plt.show()"
   ]
  },
  {
   "cell_type": "markdown",
   "metadata": {},
   "source": [
    "## KNN Regressor"
   ]
  },
  {
   "cell_type": "code",
   "execution_count": 47,
   "metadata": {},
   "outputs": [
    {
     "name": "stdout",
     "output_type": "stream",
     "text": [
      "Training Score 0.93923888\n",
      "Test Score 0.90807783\n",
      "Train Cross Validation Score 0.90856184\n",
      "Test Cross Validation Score 0.90721222\n"
     ]
    },
    {
     "data": {
      "image/png": "[encoded data removed]",
      "text/plain": [
       "<Figure size 432x288 with 1 Axes>"
      ]
     },
     "metadata": {},
     "output_type": "display_data"
    }
   ],
   "source": [
    "\n",
    "from sklearn.neighbors import KNeighborsRegressor\n",
    "\n",
    "knn_regr = KNeighborsRegressor(n_neighbors = 5).fit(X_train,Y_train)\n",
    "y_pred_knn = knn_regr.predict(X_test)\n",
    "print('Training Score {:.8f}'.format(knn_regr.score(X_train,Y_train)))\n",
    "print('Test Score {:.8f}'.format(knn_regr.score(X_test,Y_test)))\n",
    "\n",
    "\n",
    "from sklearn.model_selection import cross_val_score\n",
    "scores_knn_train = cross_val_score(knn_regr,X_train,Y_train,cv=5)\n",
    "scores_knn_test = cross_val_score(knn_regr,X_test,Y_test,cv=5)\n",
    "print('Train Cross Validation Score {:.8f}'.format(np.mean(scores_knn_train)))\n",
    "print('Test Cross Validation Score {:.8f}'.format(np.mean(scores_knn_test)))\n",
    "\n",
    "rmse_knn = sqrt(mean_squared_error(Y_test,y_pred_knn))\n",
    "\n",
    "\n",
    "import matplotlib.pyplot as plt\n",
    "\n",
    "plt.figure()\n",
    "plt.xlabel('Y Actual')\n",
    "plt.ylabel('Y Predicted')\n",
    "plt.scatter(Y_test,y_pred_knn,color=['red','green'])\n",
    "plt.show()\n",
    "\n"
   ]
  },
  {
   "cell_type": "markdown",
   "metadata": {},
   "source": [
    "## Polynomial Features with Linear and Ridge Regressors\n",
    "\n",
    "### 1) Linear Regression with Polynomial features\n"
   ]
  },
  {
   "cell_type": "code",
   "execution_count": 48,
   "metadata": {},
   "outputs": [
    {
     "name": "stdout",
     "output_type": "stream",
     "text": [
      "Training Score 0.92087501\n",
      "Test Score 0.92043897\n"
     ]
    },
    {
     "data": {
      "image/png": "[encoded data removed]",
      "text/plain": [
       "<Figure size 432x288 with 1 Axes>"
      ]
     },
     "metadata": {},
     "output_type": "display_data"
    }
   ],
   "source": [
    "from sklearn.preprocessing import PolynomialFeatures\n",
    "\n",
    "poly = PolynomialFeatures(degree=2)\n",
    "data_test_poly = PolynomialFeatures(degree=2)\n",
    "X_train_poly = poly.fit_transform(X_train)\n",
    "X_test_poly = poly.transform(X_test)\n",
    "\n",
    "\n",
    "from sklearn.linear_model import LinearRegression\n",
    "linreg_poly = LinearRegression()\n",
    "fit_linreg_poly = linreg_poly.fit(X_train_poly,Y_train)\n",
    "y_pred_polylin = fit_linreg_poly.predict(X_test_poly)\n",
    "print('Training Score {:.8f}'.format(fit_linreg_poly.score(X_train_poly,Y_train)))\n",
    "print('Test Score {:.8f}'.format(fit_linreg_poly.score(X_test_poly,Y_test)))\n",
    "\n",
    "\n",
    "rmse_polylin = sqrt(mean_squared_error(Y_test,y_pred_polylin))\n",
    "\n",
    "\n",
    "import matplotlib.pyplot as plt\n",
    "\n",
    "plt.figure()\n",
    "plt.xlabel('Y Actual')\n",
    "plt.ylabel('Y Predicted')\n",
    "plt.scatter(Y_test,y_pred_polylin,color=['red','green'])\n",
    "plt.show()\n",
    "\n",
    "\n"
   ]
  },
  {
   "cell_type": "markdown",
   "metadata": {},
   "source": [
    "\n",
    "### 2) Ridge Regression with Polynomial Features\n"
   ]
  },
  {
   "cell_type": "code",
   "execution_count": 49,
   "metadata": {},
   "outputs": [
    {
     "name": "stdout",
     "output_type": "stream",
     "text": [
      "Training Score 0.92\n",
      "Test Score 0.92\n",
      "Best parameters{'alpha': 1}\n",
      "Best score 0.91834985\n",
      "Train Cross Validation Score -2388976051989478912.00000000\n",
      "Test Cross Validation Score -4398082067744546816.00000000\n"
     ]
    },
    {
     "data": {
      "image/png": "[encoded data removed]",
      "text/plain": [
       "<Figure size 432x288 with 1 Axes>"
      ]
     },
     "metadata": {},
     "output_type": "display_data"
    }
   ],
   "source": [
    "from sklearn.linear_model import Ridge\n",
    "ridge_poly = Ridge()\n",
    "fit_ridge_poly = ridge_poly.fit(X_train_poly,Y_train)\n",
    "print('Training Score {:.2f}'.format(fit_ridge_poly.score(X_train_poly,Y_train)))\n",
    "print('Test Score {:.2f}'.format(fit_ridge_poly.score(X_test_poly,Y_test)))\n",
    "\n",
    "\n",
    "from sklearn.model_selection import GridSearchCV\n",
    "poly_ridge_cv = Ridge()\n",
    "param_grid = {'alpha': [0.01,1,5,10,100,2000]}\n",
    "grid_search_polyridge = GridSearchCV(poly_ridge_cv,param_grid,cv=5)\n",
    "grid_search_polyridge.fit(X_train_poly,Y_train)\n",
    "              \n",
    "y_pred_polyridge = grid_search_polyridge.predict(X_test_poly)\n",
    "\n",
    "print('Best parameters{}'.format(grid_search.best_params_))\n",
    "print('Best score {:.8f}'.format(grid_search.best_score_))  \n",
    "\n",
    "from sklearn.model_selection import cross_val_score\n",
    "scores_linreg_poly_train = cross_val_score(linreg_poly,X_train_poly,Y_train,cv=5)\n",
    "scores_linreg_poly_test = cross_val_score(linreg_poly,X_test_poly,Y_test,cv=5)\n",
    "print('Train Cross Validation Score {:.8f}'.format(np.mean(scores_linreg_poly_train)))\n",
    "print('Test Cross Validation Score {:.8f}'.format(np.mean(scores_linreg_poly_test)))\n",
    "\n",
    "rmse_ridgepoly = sqrt(mean_squared_error(Y_test,y_pred_polyridge))\n",
    "\n",
    "\n",
    "import matplotlib.pyplot as plt\n",
    "\n",
    "plt.figure()\n",
    "plt.xlabel('Y Actual')\n",
    "plt.ylabel('Y Predicted')\n",
    "plt.scatter(Y_test,y_pred_polyridge,color=['red','green'])\n",
    "plt.show()"
   ]
  },
  {
   "cell_type": "markdown",
   "metadata": {},
   "source": [
    "### Summary\n",
    "Data provided consist of 27 variables related to customer profiles and their loans. Some of the most important variables include\n",
    "interest rates of loans, amount of loan funded, age of credit, etc. In the given data, the idea would be to predict interest ratesof loans for customers based on the variables provided.\n",
    "\n",
    "However, the number of useful variables in the dataset are very few. We can get a predictive model based on the given variable but the model won't be very reliable in real-life scenario because we are missing some of the very key variables, one of such variable being Fico credit score. Also, in the current data set, lots of values were missing from critical variables so that decreases the size of usable dataset.The variable 'age of credit' has several values in negative, which means their credit started in august or later months than today. And we know that it is not possible. So it seems that this variable has incorrect data for several customers.\n",
    "\n",
    "Some of the most important variables in the dataset are interest rates, amount required, income, date of loan, Debt to credit ratio, age of credit, grade of loan, credit line and ownership status. As we can see that KNN model seem to be the best model from few models tested above. To have even better prediction model, it would be good to have data regarding fico scores, previous loan history,current loan status, credit utilization, record of public bankruptcies and similar variables."
   ]
  }
 ],
 "metadata": {
  "kernelspec": {
   "display_name": "Python 3",
   "language": "python",
   "name": "python3"
  },
  "language_info": {
   "codemirror_mode": {
    "name": "ipython",
    "version": 3
   },
   "file_extension": ".py",
   "mimetype": "text/x-python",
   "name": "python",
   "nbconvert_exporter": "python",
   "pygments_lexer": "ipython3",
   "version": "3.6.5"
  }
 },
 "nbformat": 4,
 "nbformat_minor": 2
}
